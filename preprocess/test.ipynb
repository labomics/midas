{
 "cells": [
  {
   "cell_type": "code",
   "execution_count": null,
   "metadata": {
    "vscode": {
     "languageId": "r"
    }
   },
   "outputs": [],
   "source": [
    "source(\"/root/workspace/code/midas/preprocess/utils.R\")\n",
    "setwd(\"/root/workspace/code/midas/\")\n",
    "library(RColorBrewer)\n",
    "\n",
    "parser <- ArgumentParser()\n",
    "parser$add_argument(\"--task\", type = \"character\", default = \"dogma_full\")\n",
    "parser$add_argument(\"--method\", type = \"character\", default = \"midas_embed\")\n",
    "parser$add_argument(\"--experiment\", type = \"character\", default = \"e0\")\n",
    "parser$add_argument(\"--model\", type = \"character\", default = \"default\")\n",
    "parser$add_argument(\"--init_model\", type = \"character\", default = \"sp_00001899\")\n",
    "o <- parser$parse_known_args()[[1]]\n",
    "\n",
    "config <- parseTOML(\"configs/data.toml\")[[gsub(\"_vd$|_transfer$|_ref_.*$\", \"\", o$task)]]\n",
    "subset_names <- basename(config$raw_data_dirs)\n",
    "subset_ids <- sapply(seq_along(subset_names) - 1, toString)\n",
    "input_dirs <- pj(\"result\", o$task, o$experiment, o$model, \"predict\", o$init_model, paste0(\"subset_\", subset_ids))\n",
    "pp_dir <- pj(\"data\", \"processed\", o$task)\n",
    "output_dir <- pj(\"result\", \"comparison\", o$task, o$method, o$experiment, o$init_model)\n",
    "mkdir(output_dir, remove_old = F)\n",
    "label_paths <- pj(config$raw_data_dirs, \"label_seurat\", \"l1.csv\")\n",
    "\n"
   ]
  },
  {
   "cell_type": "code",
   "execution_count": 77,
   "metadata": {
    "vscode": {
     "languageId": "r"
    }
   },
   "outputs": [],
   "source": [
    "missing_types <- c(\"other T\", \"CD8 T\", \"NK\", \"B\")\n",
    "\n",
    "label_dirs <- pj(config$raw_data_dirs, \"label_seurat\")\n",
    "label_list <- list()\n",
    "l1_masked_list <- list()\n",
    "l1_masked_r_list <- list()\n",
    "for (i in seq_along(label_dirs)) {\n",
    "    subset_id <- toString(i - 1)\n",
    "    l1 <- read.csv(pj(label_dirs[i], \"l1.csv\"), header = T)[, 2]\n",
    "    label_list[[subset_id]] <- l1\n",
    "    mask <- l1 != missing_types[i]\n",
    "    l1_masked_list[[subset_id]] <- l1[mask]\n",
    "    write.csv(l1_masked_list[[subset_id]], file = pj(label_dirs[i], \"l1_vt.csv\"))\n",
    "    l1_masked_r_list[[subset_id]] <- read.csv(pj(label_dirs[i], \"l1_vt.csv\"), header = T)[, 2]\n",
    "}"
   ]
  },
  {
   "cell_type": "code",
   "execution_count": 78,
   "metadata": {
    "vscode": {
     "languageId": "r"
    }
   },
   "outputs": [
    {
     "data": {
      "text/plain": [
       "\n",
       "      B   CD4 T   CD8 T      DC    Mono      NK   other other T \n",
       "    296    4983    1435      43      53     166      21     364 "
      ]
     },
     "metadata": {},
     "output_type": "display_data"
    },
    {
     "data": {
      "text/plain": [
       "\n",
       "      B   CD4 T   CD8 T      DC    Mono      NK   other other T \n",
       "    159    3974    1080      45      11     213      27     388 "
      ]
     },
     "metadata": {},
     "output_type": "display_data"
    },
    {
     "data": {
      "text/plain": [
       "\n",
       "      B   CD4 T   CD8 T      DC    Mono      NK   other other T \n",
       "    463    6913    1713      57     112     298      23     611 "
      ]
     },
     "metadata": {},
     "output_type": "display_data"
    },
    {
     "data": {
      "text/plain": [
       "\n",
       "      B   CD4 T   CD8 T      DC    Mono      NK   other other T \n",
       "    332    6377    1608      62      64     431      33     620 "
      ]
     },
     "metadata": {},
     "output_type": "display_data"
    }
   ],
   "source": [
    "table(label_list[[\"0\"]])\n",
    "table(label_list[[\"1\"]])\n",
    "table(label_list[[\"2\"]])\n",
    "table(label_list[[\"3\"]])"
   ]
  },
  {
   "cell_type": "code",
   "execution_count": 79,
   "metadata": {
    "vscode": {
     "languageId": "r"
    }
   },
   "outputs": [
    {
     "data": {
      "text/plain": [
       "\n",
       "    B CD4 T CD8 T    DC  Mono    NK other \n",
       "  296  4983  1435    43    53   166    21 "
      ]
     },
     "metadata": {},
     "output_type": "display_data"
    },
    {
     "data": {
      "text/plain": [
       "\n",
       "      B   CD4 T      DC    Mono      NK   other other T \n",
       "    159    3974      45      11     213      27     388 "
      ]
     },
     "metadata": {},
     "output_type": "display_data"
    },
    {
     "data": {
      "text/plain": [
       "\n",
       "      B   CD4 T   CD8 T      DC    Mono   other other T \n",
       "    463    6913    1713      57     112      23     611 "
      ]
     },
     "metadata": {},
     "output_type": "display_data"
    },
    {
     "data": {
      "text/plain": [
       "\n",
       "  CD4 T   CD8 T      DC    Mono      NK   other other T \n",
       "   6377    1608      62      64     431      33     620 "
      ]
     },
     "metadata": {},
     "output_type": "display_data"
    }
   ],
   "source": [
    "table(l1_masked_list[[\"0\"]])\n",
    "table(l1_masked_list[[\"1\"]])\n",
    "table(l1_masked_list[[\"2\"]])\n",
    "table(l1_masked_list[[\"3\"]])"
   ]
  },
  {
   "cell_type": "code",
   "execution_count": 80,
   "metadata": {
    "vscode": {
     "languageId": "r"
    }
   },
   "outputs": [
    {
     "data": {
      "text/plain": [
       "\n",
       "    B CD4 T CD8 T    DC  Mono    NK other \n",
       "  296  4983  1435    43    53   166    21 "
      ]
     },
     "metadata": {},
     "output_type": "display_data"
    },
    {
     "data": {
      "text/plain": [
       "\n",
       "      B   CD4 T      DC    Mono      NK   other other T \n",
       "    159    3974      45      11     213      27     388 "
      ]
     },
     "metadata": {},
     "output_type": "display_data"
    },
    {
     "data": {
      "text/plain": [
       "\n",
       "      B   CD4 T   CD8 T      DC    Mono   other other T \n",
       "    463    6913    1713      57     112      23     611 "
      ]
     },
     "metadata": {},
     "output_type": "display_data"
    },
    {
     "data": {
      "text/plain": [
       "\n",
       "  CD4 T   CD8 T      DC    Mono      NK   other other T \n",
       "   6377    1608      62      64     431      33     620 "
      ]
     },
     "metadata": {},
     "output_type": "display_data"
    }
   ],
   "source": [
    "table(l1_masked_r_list[[\"0\"]])\n",
    "table(l1_masked_r_list[[\"1\"]])\n",
    "table(l1_masked_r_list[[\"2\"]])\n",
    "table(l1_masked_r_list[[\"3\"]])"
   ]
  }
 ],
 "metadata": {
  "interpreter": {
   "hash": "61a57a4b5406d2de388e2f91097d4e4bcd7d5f4a46f53a795aa28a02eed27fc5"
  },
  "kernelspec": {
   "display_name": "R",
   "language": "R",
   "name": "ir"
  },
  "language_info": {
   "codemirror_mode": "r",
   "file_extension": ".r",
   "mimetype": "text/x-r-source",
   "name": "R",
   "pygments_lexer": "r",
   "version": "4.1.0"
  },
  "orig_nbformat": 4
 },
 "nbformat": 4,
 "nbformat_minor": 2
}
