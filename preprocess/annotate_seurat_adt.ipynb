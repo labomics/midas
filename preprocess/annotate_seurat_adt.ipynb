{
 "cells": [
  {
   "cell_type": "code",
   "execution_count": null,
   "metadata": {
    "vscode": {
     "languageId": "r"
    }
   },
   "outputs": [],
   "source": [
    "source(\"/root/workspace/code/sc-transformer/preprocess/utils.R\")\n",
    "setwd(\"/root/workspace/code/sc-transformer/\")\n",
    "library(patchwork)\n",
    "\n",
    "\n",
    "ref_dir <- \"data/raw/rna+adt/wnn\"\n",
    "data_dirs <- c(\n",
    "    \"data/raw/atac+rna+adt/tea/TEA-seq/w1\",\n",
    "    \"data/raw/atac+rna+adt/tea/TEA-seq/w3\",\n",
    "    \"data/raw/atac+rna+adt/tea/TEA-seq/w4\",\n",
    "    \"data/raw/atac+rna+adt/tea/TEA-seq/w5\",\n",
    "    \"data/raw/atac+rna+adt/tea/TEA-seq/w6\",\n",
    "    \"data/raw/atac+rna+adt/dogma/lll_ctrl\",\n",
    "    \"data/raw/atac+rna+adt/dogma/lll_stim\",\n",
    "    \"data/raw/atac+rna+adt/dogma/dig_ctrl\",\n",
    "    \"data/raw/atac+rna+adt/dogma/dig_stim\"\n",
    ")"
   ]
  },
  {
   "cell_type": "code",
   "execution_count": null,
   "metadata": {
    "vscode": {
     "languageId": "r"
    }
   },
   "outputs": [],
   "source": [
    "# Load reference data\n",
    "reference <- LoadH5Seurat(pj(ref_dir, \"multi.h5seurat\"))"
   ]
  },
  {
   "cell_type": "code",
   "execution_count": null,
   "metadata": {
    "vscode": {
     "languageId": "r"
    }
   },
   "outputs": [],
   "source": [
    "reference <- SCTransform(reference, assay = \"ADT\", new.assay.name = \"SCT\", verbose = T)"
   ]
  },
  {
   "cell_type": "code",
   "execution_count": 10,
   "metadata": {
    "vscode": {
     "languageId": "r"
    }
   },
   "outputs": [
    {
     "data": {
      "text/plain": [
       "An object of class Seurat \n",
       "21185 features across 161764 samples within 3 assays \n",
       "Active assay: SCT_ADT (228 features, 228 variable features)\n",
       " 2 other assays present: SCT, ADT\n",
       " 6 dimensional reductions calculated: apca, aumap, pca, spca, umap, wnn.umap"
      ]
     },
     "metadata": {},
     "output_type": "display_data"
    }
   ],
   "source": [
    "reference"
   ]
  },
  {
   "cell_type": "code",
   "execution_count": 11,
   "metadata": {
    "vscode": {
     "languageId": "r"
    }
   },
   "outputs": [],
   "source": [
    "data_dirs <- c(\n",
    "    # dogma\n",
    "    \"data/raw/atac+rna+adt/dogma/lll_ctrl\",\n",
    "    \"data/raw/atac+rna+adt/dogma/lll_stim\",\n",
    "    \"data/raw/atac+rna+adt/dogma/dig_ctrl\",\n",
    "    \"data/raw/atac+rna+adt/dogma/dig_stim\",\n",
    "    # tea\n",
    "    \"data/raw/atac+rna+adt/tea/TEA-seq/w1\",\n",
    "    \"data/raw/atac+rna+adt/tea/TEA-seq/w3\",\n",
    "    \"data/raw/atac+rna+adt/tea/TEA-seq/w4\",\n",
    "    \"data/raw/atac+rna+adt/tea/TEA-seq/w5\",\n",
    "    \"data/raw/atac+rna+adt/tea/TEA-seq/w6\",\n",
    "    # asap\n",
    "    \"data/raw/atac+adt/asap/PBMC_stimulation/asap_ctrl\",\n",
    "    \"data/raw/atac+adt/asap/PBMC_stimulation/asap_stim\",\n",
    "    # asap cite\n",
    "    \"data/raw/rna+adt/asap/PBMC_stimulation/cite_ctrl\",\n",
    "    \"data/raw/rna+adt/asap/PBMC_stimulation/cite_stim\",\n",
    "    # wnn\n",
    "    \"data/raw/rna+adt/wnn/p1_0\",\n",
    "    \"data/raw/rna+adt/wnn/p2_0\",\n",
    "    \"data/raw/rna+adt/wnn/p3_0\",\n",
    "    \"data/raw/rna+adt/wnn/p4_0\",\n",
    "    \"data/raw/rna+adt/wnn/p5_0\",\n",
    "    \"data/raw/rna+adt/wnn/p6_0\",\n",
    "    \"data/raw/rna+adt/wnn/p7_0\",\n",
    "    \"data/raw/rna+adt/wnn/p8_0\"\n",
    ")"
   ]
  },
  {
   "cell_type": "code",
   "execution_count": null,
   "metadata": {
    "vscode": {
     "languageId": "r"
    }
   },
   "outputs": [],
   "source": [
    "data_dir <- \"data/raw/atac+rna+adt/dogma/lll_ctrl\"\n",
    "query_dir <- pj(data_dir, \"seurat\")\n",
    "label_dir <- pj(data_dir, \"label_seurat_adt\")\n",
    "mkdir(label_dir, remove_old = T)\n",
    "query <- LoadH5Seurat(pj(query_dir, \"adt.h5seurat\"))"
   ]
  },
  {
   "cell_type": "code",
   "execution_count": null,
   "metadata": {
    "vscode": {
     "languageId": "r"
    }
   },
   "outputs": [],
   "source": [
    "query <- SCTransform(query, assay = \"adt\", new.assay.name = \"SCT\", verbose = T)"
   ]
  },
  {
   "cell_type": "code",
   "execution_count": 23,
   "metadata": {
    "vscode": {
     "languageId": "r"
    }
   },
   "outputs": [
    {
     "name": "stderr",
     "output_type": "stream",
     "text": [
      "Computing sPCA transformation\n",
      "\n"
     ]
    }
   ],
   "source": [
    "reference <- RunSPCA(reference, assay = \"SCT\", graph = 'wsnn')"
   ]
  },
  {
   "cell_type": "code",
   "execution_count": 24,
   "metadata": {
    "vscode": {
     "languageId": "r"
    }
   },
   "outputs": [
    {
     "name": "stderr",
     "output_type": "stream",
     "text": [
      "Normalizing query using reference SCT model\n",
      "\n"
     ]
    },
    {
     "ename": "ERROR",
     "evalue": "Error in umi[residual.features, , drop = FALSE]: invalid or not-yet-implemented 'Matrix' subsetting\n",
     "output_type": "error",
     "traceback": [
      "Error in umi[residual.features, , drop = FALSE]: invalid or not-yet-implemented 'Matrix' subsetting\nTraceback:\n",
      "1. FindTransferAnchors(reference = reference, query = query, normalization.method = \"SCT\", \n .     reference.reduction = \"spca\", dims = 1:50)",
      "2. ValidateParams_FindTransferAnchors(reference = reference, query = query, \n .     normalization.method = normalization.method, recompute.residuals = recompute.residuals, \n .     reference.assay = reference.assay, reference.neighbors = reference.neighbors, \n .     query.assay = query.assay, reduction = reduction, reference.reduction = reference.reduction, \n .     project.query = project.query, features = features, scale = scale, \n .     npcs = npcs, l2.norm = l2.norm, dims = dims, k.anchor = k.anchor, \n .     k.filter = k.filter, k.score = k.score, max.features = max.features, \n .     nn.method = nn.method, n.trees = n.trees, eps = eps, approx.pca = approx.pca, \n .     mapping.score.k = mapping.score.k, verbose = verbose)",
      "3. SCTransform(object = query, reference.SCT.model = slot(object = reference[[reference.assay]], \n .     name = \"SCTModel.list\")[[1]], residual.features = features, \n .     assay = query.umi.assay, new.assay.name = new.sct.assay, \n .     verbose = FALSE)",
      "4. get_residuals(vst_out = vst.out, umi = umi[residual.features, \n .     , drop = FALSE], verbosity = as.numeric(x = verbose) * 2)",
      "5. rownames(umi)",
      "6. umi[residual.features, , drop = FALSE]",
      "7. umi[residual.features, , drop = FALSE]",
      "8. stop(\"invalid or not-yet-implemented 'Matrix' subsetting\")"
     ]
    }
   ],
   "source": [
    "anchors <- FindTransferAnchors(\n",
    "    reference = reference,\n",
    "    query = query,\n",
    "    normalization.method = \"SCT\",\n",
    "    reference.reduction = \"spca\",\n",
    "    # recompute.residuals = F,\n",
    "    dims = 1:50\n",
    ")"
   ]
  },
  {
   "cell_type": "code",
   "execution_count": null,
   "metadata": {
    "vscode": {
     "languageId": "r"
    }
   },
   "outputs": [],
   "source": [
    "for (data_dir in data_dirs) {\n",
    "    query_dir <- pj(data_dir, \"seurat\")\n",
    "    label_dir <- pj(data_dir, \"label_seurat_adt\")\n",
    "    mkdir(label_dir, remove_old = T)\n",
    "\n",
    "    # Load query data\n",
    "    query <- LoadH5Seurat(pj(query_dir, \"adt.h5seurat\")) %>%\n",
    "             SCTransform(assay = \"adt\", new.assay.name = \"SCT_ADT\", verbose = T)\n",
    "    # SaveH5Seurat(query, pj(query_dir, \"rna_sct.h5seurat\"), overwrite = T)\n",
    "    # query <- LoadH5Seurat(pj(query_dir, \"rna_sct.h5seurat\"))\n",
    "\n",
    "    # Find mapping\n",
    "    anchors <- FindTransferAnchors(\n",
    "        reference = reference,\n",
    "        query = query,\n",
    "        normalization.method = \"SCT_ADT\",\n",
    "        reference.reduction = \"spca\",\n",
    "        # recompute.residuals = F,\n",
    "        dims = 1:50\n",
    "    )\n",
    "\n",
    "    # # Transfer labels\n",
    "    # query <- MapQuery(\n",
    "    #     anchorset = anchors,\n",
    "    #     query = query,\n",
    "    #     reference = reference,\n",
    "    #     refdata = list(celltype.l1 = \"celltype.l1\",\n",
    "    #                    celltype.l2 = \"celltype.l2\",\n",
    "    #                    celltype.l3 = \"celltype.l3\",\n",
    "    #                    predicted_ADT = \"ADT\"),\n",
    "    #     reference.reduction = \"spca\",\n",
    "    #     reduction.model = \"wnn.umap\"\n",
    "    # )\n",
    "    # write.csv(query@meta.data$predicted.celltype.l1, file = pj(label_dir, \"l1.csv\"))\n",
    "    # write.csv(query@meta.data$predicted.celltype.l2, file = pj(label_dir, \"l2.csv\"))\n",
    "    # write.csv(query@meta.data$predicted.celltype.l3, file = pj(label_dir, \"l3.csv\"))\n",
    "\n",
    "    # # Visualize\n",
    "    # p1 <- DimPlot(query, reduction = \"ref.umap\", group.by = \"predicted.celltype.l1\", label = T,\n",
    "    #          label.size = 3, repel = T) + NoLegend()\n",
    "    # p2 <- DimPlot(query, reduction = \"ref.umap\", group.by = \"predicted.celltype.l2\", label = T,\n",
    "    #          label.size = 3 ,repel = T) + NoLegend()\n",
    "    # p3 <- DimPlot(query, reduction = \"ref.umap\", group.by = \"predicted.celltype.l3\", label = T,\n",
    "    #          label.size = 3 ,repel = T) + NoLegend()\n",
    "    # p1 + p2 + p3\n",
    "    # ggsave(file = file.path(label_dir, \"ref_map.png\"), width = 18, height = 6)\n",
    "}"
   ]
  }
 ],
 "metadata": {
  "kernelspec": {
   "display_name": "R",
   "language": "R",
   "name": "ir"
  },
  "language_info": {
   "codemirror_mode": "r",
   "file_extension": ".r",
   "mimetype": "text/x-r-source",
   "name": "R",
   "pygments_lexer": "r",
   "version": "4.1.1"
  },
  "orig_nbformat": 4
 },
 "nbformat": 4,
 "nbformat_minor": 2
}
