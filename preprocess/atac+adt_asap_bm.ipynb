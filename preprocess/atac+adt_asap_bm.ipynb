{
 "cells": [
  {
   "cell_type": "code",
   "execution_count": null,
   "metadata": {
    "vscode": {
     "languageId": "r"
    }
   },
   "outputs": [],
   "source": [
    "source(\"/root/workspace/code/midas/preprocess/utils.R\")\n",
    "setwd(\"/root/workspace/code/midas/\")\n",
    "\n",
    "base_dir <- \"data/raw/atac+adt/asap/BM\"\n",
    "frag_path <- pj(base_dir, \"GSM4732140_Human_BoneMarrow_hg38_fragments.tsv.gz\")\n",
    "adt_path <- pj(base_dir, \"GSM4732141_Human_BoneMarrow_ADT.tsv.gz\")\n",
    "hto_path <- pj(base_dir, \"GSM4732142_Human_BoneMarrow_HTO.tsv.gz\")\n",
    "\n",
    "output_dir <- pj(base_dir, \"seurat\")\n",
    "mkdir(output_dir, remove_old = T)"
   ]
  },
  {
   "cell_type": "code",
   "execution_count": null,
   "metadata": {
    "vscode": {
     "languageId": "r"
    }
   },
   "outputs": [],
   "source": [
    "# ADT\n",
    "# load data\n",
    "adt_counts <- t(read.table(file = adt_path, sep = \"\\t\", header = TRUE, row.names = 1))\n",
    "adt <- gen_adt(adt_counts)\n",
    "VlnPlot(adt, c(\"nCount_adt\"), pt.size = 0.001, ncol = 1, log = T) + NoLegend()\n",
    "adt\n",
    "# QC\n",
    "adt <- subset(adt, subset = nCount_adt > 150 & nCount_adt < 10000)\n",
    "VlnPlot(adt, c(\"nCount_adt\"), pt.size = 0.001, ncol = 1, log = T) + NoLegend()\n",
    "adt"
   ]
  },
  {
   "cell_type": "code",
   "execution_count": null,
   "metadata": {
    "vscode": {
     "languageId": "r"
    }
   },
   "outputs": [],
   "source": [
    "# # HTO\n",
    "# # load data\n",
    "# hto_counts <- t(read.table(file = hto_path, sep = \"\\t\", header = TRUE, row.names = 1))\n",
    "# hto_counts <- hto_counts[, intersect(colnames(hto_counts), colnames(adt_counts))]\n",
    "# hto <- CreateSeuratObject(counts = hto_counts, assay = \"hto\")\n",
    "# # remove doublets\n",
    "# hto <- NormalizeData(hto, assay = \"hto\", normalization.method = \"CLR\", margin = 1)\n",
    "# hto <- HTODemux(hto, assay = \"hto\", positive.quantile = 0.995)\n",
    "# table(hto$hto_classification.global)\n",
    "# hto <- subset(hto, subset = hto_classification.global != \"Doublet\")\n",
    "# hto"
   ]
  },
  {
   "cell_type": "code",
   "execution_count": null,
   "metadata": {
    "vscode": {
     "languageId": "r"
    }
   },
   "outputs": [],
   "source": [
    "# ATAC\n",
    "atac <- gen_atac(frag_path)\n",
    "VlnPlot(atac, c(\"nCount_atac\", \"nucleosome_signal\", \"TSS.enrichment\"),\n",
    "        pt.size = 0.001, ncol = 3, log = T) + NoLegend()\n",
    "atac\n",
    "# QC\n",
    "atac <- subset(atac, subset =\n",
    "    nCount_atac > 500 & nCount_atac < 3e4 &\n",
    "    nucleosome_signal < 3 &\n",
    "    TSS.enrichment > 2\n",
    ")\n",
    "atac <- subset(atac, features = rownames(atac)[rowSums(atac$atac@counts > 0) > 5])\n",
    "VlnPlot(atac, c(\"nCount_atac\", \"nucleosome_signal\", \"TSS.enrichment\"),\n",
    "        pt.size = 0.001, ncol = 3, log = F) + NoLegend()\n",
    "atac"
   ]
  },
  {
   "cell_type": "code",
   "execution_count": 19,
   "metadata": {
    "vscode": {
     "languageId": "r"
    }
   },
   "outputs": [
    {
     "data": {
      "text/plain": [
       "An object of class Seurat \n",
       "150502 features across 10671 samples within 1 assay \n",
       "Active assay: atac (150502 features, 0 variable features)"
      ]
     },
     "metadata": {},
     "output_type": "display_data"
    },
    {
     "data": {
      "text/plain": [
       "An object of class Seurat \n",
       "238 features across 10671 samples within 1 assay \n",
       "Active assay: adt (238 features, 0 variable features)"
      ]
     },
     "metadata": {},
     "output_type": "display_data"
    }
   ],
   "source": [
    "# Get intersected cells satisfying QC metrics of all modalities\n",
    "cell_ids <- Reduce(intersect, list(colnames(atac), colnames(adt)))\n",
    "atac <- subset(atac, cells = cell_ids)\n",
    "adt <- subset(adt, cells = cell_ids)\n",
    "atac\n",
    "adt"
   ]
  },
  {
   "cell_type": "code",
   "execution_count": null,
   "metadata": {
    "vscode": {
     "languageId": "r"
    }
   },
   "outputs": [],
   "source": [
    "# preprocess and save data\n",
    "preprocess(output_dir, atac = atac, adt = adt)"
   ]
  }
 ],
 "metadata": {
  "interpreter": {
   "hash": "61a57a4b5406d2de388e2f91097d4e4bcd7d5f4a46f53a795aa28a02eed27fc5"
  },
  "kernelspec": {
   "display_name": "R",
   "language": "R",
   "name": "ir"
  },
  "language_info": {
   "codemirror_mode": "r",
   "file_extension": ".r",
   "mimetype": "text/x-r-source",
   "name": "R",
   "pygments_lexer": "r",
   "version": "4.1.0"
  },
  "orig_nbformat": 4
 },
 "nbformat": 4,
 "nbformat_minor": 2
}
