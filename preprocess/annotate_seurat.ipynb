{
 "cells": [
  {
   "cell_type": "code",
   "execution_count": 5,
   "metadata": {
    "vscode": {
     "languageId": "r"
    }
   },
   "outputs": [],
   "source": [
    "source(\"/root/workspace/code/sc-transformer/preprocess/utils.R\")\n",
    "setwd(\"/root/workspace/code/sc-transformer/\")\n",
    "library(patchwork)\n",
    "\n",
    "\n",
    "ref_dir <- \"data/raw/rna+adt/wnn\"\n",
    "data_dirs <- c(\n",
    "    \"data/raw/atac+rna+adt/dogma/lll_ctrl\",\n",
    "    \"data/raw/atac+rna+adt/dogma/lll_stim\",\n",
    "    \"data/raw/atac+rna+adt/dogma/dig_ctrl\",\n",
    "    \"data/raw/atac+rna+adt/dogma/dig_stim\",\n",
    "    # tea\n",
    "    \"data/raw/atac+rna+adt/tea/TEA-seq/w1\",\n",
    "    \"data/raw/atac+rna+adt/tea/TEA-seq/w3\",\n",
    "    \"data/raw/atac+rna+adt/tea/TEA-seq/w4\",\n",
    "    \"data/raw/atac+rna+adt/tea/TEA-seq/w5\",\n",
    "    \"data/raw/atac+rna+adt/tea/TEA-seq/w6\",\n",
    "    # tea multiome\n",
    "    \"data/raw/atac+rna/tea/Multiome/tea_multi_w1\",\n",
    "    \"data/raw/atac+rna/tea/Multiome/tea_multi_w2\",\n",
    "    # 10x multiome\n",
    "    \"data/raw/atac+rna/10x_multiome_chrom_x_10k\",\n",
    "    \"data/raw/atac+rna/10x_multiome_chrom_c_10k\",\n",
    "    \"data/raw/atac+rna/10x_multiome_arc2_10k\",\n",
    "    \"data/raw/atac+rna/10x_multiome_arc2_3k\",\n",
    "    # asap\n",
    "    \"data/raw/atac+adt/asap/PBMC_stimulation/asap_ctrl\",\n",
    "    \"data/raw/atac+adt/asap/PBMC_stimulation/asap_stim\",\n",
    "    # asap cite\n",
    "    \"data/raw/rna+adt/asap/PBMC_stimulation/cite_ctrl\",\n",
    "    \"data/raw/rna+adt/asap/PBMC_stimulation/cite_stim\",\n",
    "    # wnn\n",
    "    \"data/raw/rna+adt/wnn/p1_0\",\n",
    "    \"data/raw/rna+adt/wnn/p2_0\",\n",
    "    \"data/raw/rna+adt/wnn/p3_0\",\n",
    "    \"data/raw/rna+adt/wnn/p4_0\",\n",
    "    \"data/raw/rna+adt/wnn/p5_0\",\n",
    "    \"data/raw/rna+adt/wnn/p6_0\",\n",
    "    \"data/raw/rna+adt/wnn/p7_0\",\n",
    "    \"data/raw/rna+adt/wnn/p8_0\"\n",
    ")"
   ]
  },
  {
   "cell_type": "code",
   "execution_count": null,
   "metadata": {
    "vscode": {
     "languageId": "r"
    }
   },
   "outputs": [],
   "source": [
    "# Load reference data\n",
    "# reference <- LoadH5Seurat(pj(ref_dir, \"multi.h5seurat\"))\n",
    "reference <- LoadH5Seurat(pj(ref_dir, \"multi.h5seurat\")) %>%\n",
    "             SCTransform(assay = \"SCT\", verbose = T)\n",
    "SaveH5Seurat(reference, pj(ref_dir, \"multi_SCTransform.h5seurat\"), overwrite = T)\n",
    "# reference <- LoadH5Seurat(pj(ref_dir, \"multi_SCTransform.h5seurat\"))"
   ]
  },
  {
   "cell_type": "code",
   "execution_count": null,
   "metadata": {
    "vscode": {
     "languageId": "r"
    }
   },
   "outputs": [],
   "source": [
    "for (data_dir in data_dirs) {\n",
    "    query_dir <- pj(data_dir, \"seurat\")\n",
    "    label_dir <- pj(data_dir, \"label_seurat\")\n",
    "    mkdir(label_dir, remove_old = T)\n",
    "\n",
    "    # Load query data\n",
    "    query <- LoadH5Seurat(pj(query_dir, \"rna.h5seurat\")) %>%\n",
    "             SCTransform(assay = \"rna\", verbose = T)\n",
    "    # SaveH5Seurat(query, pj(query_dir, \"rna_sct.h5seurat\"), overwrite = T)\n",
    "    # query <- LoadH5Seurat(pj(query_dir, \"rna_sct.h5seurat\"))\n",
    "\n",
    "    # Find mapping\n",
    "    anchors <- FindTransferAnchors(\n",
    "        reference = reference,\n",
    "        query = query,\n",
    "        normalization.method = \"SCT\",\n",
    "        reference.reduction = \"spca\",\n",
    "        # recompute.residuals = F,\n",
    "        dims = 1:50\n",
    "    )\n",
    "\n",
    "    # Transfer labels\n",
    "    query <- MapQuery(\n",
    "        anchorset = anchors,\n",
    "        query = query,\n",
    "        reference = reference,\n",
    "        refdata = list(celltype.l1 = \"celltype.l1\",\n",
    "                       celltype.l2 = \"celltype.l2\",\n",
    "                       celltype.l3 = \"celltype.l3\",\n",
    "                       predicted_ADT = \"ADT\"),\n",
    "        reference.reduction = \"spca\",\n",
    "        reduction.model = \"wnn.umap\"\n",
    "    )\n",
    "    write.csv(query@meta.data$predicted.celltype.l1, file = pj(label_dir, \"l1.csv\"))\n",
    "    write.csv(query@meta.data$predicted.celltype.l2, file = pj(label_dir, \"l2.csv\"))\n",
    "    write.csv(query@meta.data$predicted.celltype.l3, file = pj(label_dir, \"l3.csv\"))\n",
    "\n",
    "    # Visualize\n",
    "    p1 <- DimPlot(query, reduction = \"ref.umap\", group.by = \"predicted.celltype.l1\", label = T,\n",
    "             label.size = 3, repel = T) + NoLegend()\n",
    "    p2 <- DimPlot(query, reduction = \"ref.umap\", group.by = \"predicted.celltype.l2\", label = T,\n",
    "             label.size = 3, repel = T) + NoLegend()\n",
    "    p3 <- DimPlot(query, reduction = \"ref.umap\", group.by = \"predicted.celltype.l3\", label = T,\n",
    "             label.size = 3, repel = T) + NoLegend()\n",
    "    p1 + p2 + p3\n",
    "    ggsave(file = file.path(label_dir, \"ref_map.png\"), width = 18, height = 6)\n",
    "}"
   ]
  }
 ],
 "metadata": {
  "kernelspec": {
   "display_name": "R",
   "language": "R",
   "name": "ir"
  },
  "language_info": {
   "codemirror_mode": "r",
   "file_extension": ".r",
   "mimetype": "text/x-r-source",
   "name": "R",
   "pygments_lexer": "r",
   "version": "4.1.1"
  },
  "orig_nbformat": 4
 },
 "nbformat": 4,
 "nbformat_minor": 2
}
