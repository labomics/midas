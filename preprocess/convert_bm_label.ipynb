{
 "cells": [
  {
   "cell_type": "code",
   "execution_count": 1,
   "metadata": {},
   "outputs": [],
   "source": [
    "import os\n",
    "os.chdir(\"/root/workspace/code/midas/\")\n",
    "from os.path import join as pj\n",
    "import argparse\n",
    "import sys\n",
    "sys.path.append(\"modules\")\n",
    "import utils\n",
    "import re\n",
    "import numpy as np\n",
    "import rpy2.robjects as robjects"
   ]
  },
  {
   "cell_type": "code",
   "execution_count": 50,
   "metadata": {},
   "outputs": [
    {
     "name": "stdout",
     "output_type": "stream",
     "text": [
      "label_gt_l1:  ['B' 'CD4 T' 'CD8 T' 'DC' 'Mono' 'NK' 'Progenitor' 'other T']\n"
     ]
    }
   ],
   "source": [
    "label_gt_l1 = np.array(robjects.r['as.matrix'](robjects.r['readRDS']('result/analysis/bm/BM_lable_l1_l2.rds')), dtype=object)[0][2]\n",
    "label_gt_l1 = np.array([re.sub(\" cell.*\", \"\", l) for l in label_gt_l1])\n",
    "print(\"label_gt_l1: \", np.unique(label_gt_l1))"
   ]
  },
  {
   "cell_type": "code",
   "execution_count": 2,
   "metadata": {},
   "outputs": [
    {
     "name": "stdout",
     "output_type": "stream",
     "text": [
      "label_gt_l1:  ['B' 'Mono/DC' 'NK' 'Progenitor' 'T']\n",
      "label_gt_l2:  ['CD14 Mono' 'CD16 Mono' 'CD4 Memory' 'CD4 Naive' 'CD56 bright NK'\n",
      " 'CD8 Effector_1' 'CD8 Effector_2' 'CD8 Memory_1' 'CD8 Memory_2'\n",
      " 'CD8 Naive' 'GMP' 'HSC' 'LMPP' 'MAIT' 'Memory B' 'NK' 'Naive B'\n",
      " 'Plasmablast' 'Prog_B 1' 'Prog_B 2' 'Prog_DC' 'Prog_Mk' 'Prog_RBC' 'Treg'\n",
      " 'cDC2' 'gdT' 'pDC']\n"
     ]
    }
   ],
   "source": [
    "# label_gt = np.array(robjects.r['as.matrix'](robjects.r['readRDS']('result/analysis/bm/label_transfer_bm_cca.rds')), dtype=object)\n",
    "\n",
    "# label_gt_l1 = np.concatenate([label_gt[0][0][0], label_gt[1][0][0], label_gt[2][0][0]], axis=0)\n",
    "# label_gt_l1 = np.array([re.sub(\" cell.*\", \"\", l) for l in label_gt_l1])\n",
    "# print(\"label_gt_l1: \", np.unique(label_gt_l1))\n",
    "\n",
    "# label_gt_l2 = np.concatenate([label_gt[0][0][1], label_gt[1][0][1], label_gt[2][0][1]], axis=0)\n",
    "# print(\"label_gt_l2: \", np.unique(label_gt_l2))\n",
    "# label_gt_l2 = np.array([re.sub(\" cell.*\", \"\", l) for l in label_gt_l2])"
   ]
  },
  {
   "cell_type": "code",
   "execution_count": 48,
   "metadata": {},
   "outputs": [],
   "source": [
    "l1_0 = label_gt_l1[:34592]\n",
    "l1_1 = label_gt_l1[34592:34592+10671]\n",
    "l1_2 = label_gt_l1[34592+10671:34592+10671+26286]\n",
    "utils.save_list_to_csv([[\"\", \"x\"]] + [[str(i)]+list(line) for i, line in enumerate(list(l1_0.reshape(-1, 1)), 1)], \"data/raw/rna/ica/label_seurat/l1.csv\")\n",
    "utils.save_list_to_csv([[\"\", \"x\"]] + [[str(i)]+list(line) for i, line in enumerate(list(l1_1.reshape(-1, 1)), 1)], \"data/raw/atac+adt/asap/BM/label_seurat/l1.csv\")\n",
    "utils.save_list_to_csv([[\"\", \"x\"]] + [[str(i)]+list(line) for i, line in enumerate(list(l1_2.reshape(-1, 1)), 1)], \"data/raw/rna+adt/bm/label_seurat/l1.csv\")\n",
    "\n",
    "# l2_0 = label_gt_l2[:34592]\n",
    "# l2_1 = label_gt_l2[34592:34592+10671]\n",
    "# l2_2 = label_gt_l2[34592+10671:34592+10671+26286]\n",
    "# utils.save_list_to_csv([[\"\", \"x\"]] + [[str(i)]+list(line) for i, line in enumerate(list(l2_0.reshape(-1, 1)), 1)], \"data/raw/rna/ica/label_seurat/l2.csv\")\n",
    "# utils.save_list_to_csv([[\"\", \"x\"]] + [[str(i)]+list(line) for i, line in enumerate(list(l2_1.reshape(-1, 1)), 1)], \"data/raw/atac+adt/asap/BM/label_seurat/l2.csv\")\n",
    "# utils.save_list_to_csv([[\"\", \"x\"]] + [[str(i)]+list(line) for i, line in enumerate(list(l2_2.reshape(-1, 1)), 1)], \"data/raw/rna+adt/bm/label_seurat/l2.csv\")"
   ]
  }
 ],
 "metadata": {
  "kernelspec": {
   "display_name": "Python 3.8.8 ('base')",
   "language": "python",
   "name": "python3"
  },
  "language_info": {
   "codemirror_mode": {
    "name": "ipython",
    "version": 3
   },
   "file_extension": ".py",
   "mimetype": "text/x-python",
   "name": "python",
   "nbconvert_exporter": "python",
   "pygments_lexer": "ipython3",
   "version": "3.8.8"
  },
  "vscode": {
   "interpreter": {
    "hash": "61a57a4b5406d2de388e2f91097d4e4bcd7d5f4a46f53a795aa28a02eed27fc5"
   }
  }
 },
 "nbformat": 4,
 "nbformat_minor": 2
}
