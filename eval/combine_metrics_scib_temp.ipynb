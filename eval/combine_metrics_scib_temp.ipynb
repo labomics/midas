{
 "cells": [
  {
   "cell_type": "code",
   "execution_count": null,
   "metadata": {},
   "outputs": [],
   "source": [
    "import os\n",
    "os.chdir(\"/root/workspace/code/midas/\")\n",
    "from os.path import join as pj\n",
    "import argparse\n",
    "import sys\n",
    "sys.path.append(\"modules\")\n",
    "import utils\n",
    "import numpy as np\n",
    "import anndata as ad\n",
    "import pandas as pd\n",
    "import copy\n",
    "import re"
   ]
  },
  {
   "cell_type": "code",
   "execution_count": null,
   "metadata": {},
   "outputs": [],
   "source": [
    "parser = argparse.ArgumentParser()\n",
    "# parser.add_argument('--tasks', type=str, nargs='+',  default=[\"dogma_full\", \"dogma_paired_full\", \n",
    "#     \"dogma_paired_abc\", \"dogma_paired_ab\",  \"dogma_paired_ac\", \"dogma_paired_bc\",\n",
    "#     \"dogma_single_full\", \"dogma_single\"])\n",
    "parser.add_argument('--tasks', type=str, nargs='+',  default=[\"teadog_paired_a\", \"teadog_atac_paired_a\", \"teadog_rna_paired_a\", \"teadog_diagonal_a_paired_a\", \"teadog_diagonal_b_paired_a\", \"teadog_diagonal_c_paired_a\", \"teadog_diagonal_d_paired_a\", \"teadog_diagonal_a\", \"teadog_diagonal_b\"])\n",
    "parser.add_argument('--method', type=str, default='midas_embed')\n",
    "# parser.add_argument('--method', type=str, default='scmomat')\n",
    "# parser.add_argument('--method', type=str, default='scvaeit')\n",
    "# parser.add_argument('--method', type=str, default='stabmap')\n",
    "parser.add_argument('--mosaic', type=int, default=1)\n",
    "parser.add_argument('--sota', type=int, default=0)\n",
    "parser.add_argument('--experiment', type=str, default='e0')\n",
    "parser.add_argument('--model', type=str, default='default')\n",
    "parser.add_argument('--init_model', type=str, default='sp_00001899')\n",
    "o, _ = parser.parse_known_args()  # for python interactive\n",
    "# o = parser.parse_args()"
   ]
  },
  {
   "cell_type": "code",
   "execution_count": null,
   "metadata": {},
   "outputs": [],
   "source": [
    "# mosaic results\n",
    "df_batch_bio_embed = {}\n",
    "if o.mosaic == 0:\n",
    "    o.tasks = [o.tasks[0]]\n",
    "for task in o.tasks:\n",
    "    if o.method == \"midas_embed\":\n",
    "        fp = pj(\"result\", \"comparison\", task, o.method, o.experiment, o.model, o.init_model, \"metrics_batch_bio.xlsx\")\n",
    "    else:\n",
    "        fp = pj(\"result\", \"comparison\", task, o.method, \"metrics_batch_bio.xlsx\")\n",
    "    df_batch_bio_embed[task] = pd.read_excel(fp)\n",
    "    df_batch_bio_embed[task].rename(index={0: task}, inplace=True)\n",
    "df_batch_bio_embed_cat = pd.concat(df_batch_bio_embed.values(), axis=0)\n",
    "\n",
    "df_batch_bio_embed_cat[\"Task\"] = df_batch_bio_embed_cat.index\n",
    "df_batch_bio_embed_cat.rename(index={i: o.method for i in df_batch_bio_embed_cat.index}, inplace=True)\n",
    "df_batch_bio_embed_cat\n"
   ]
  },
  {
   "cell_type": "code",
   "execution_count": null,
   "metadata": {},
   "outputs": [],
   "source": [
    "# sota results\n",
    "if o.sota == 1:\n",
    "    methods = [\n",
    "        \"midas_feat+wnn\",\n",
    "        \"mofa\",\n",
    "        \"liger+wnn\",\n",
    "        \"harmony+wnn\",\n",
    "        \"scanorama_embed+wnn\",\n",
    "        \"scanorama_feat+wnn\",\n",
    "        \"bbknn\",\n",
    "        \"seurat_rpca+wnn\",\n",
    "        \"seurat_cca+wnn\",\n",
    "        \"pca+wnn\",\n",
    "    ]\n",
    "\n",
    "    df_sota = {}\n",
    "    for method in methods:\n",
    "        if \"midas\" in method:\n",
    "            df_sota[method] = pd.read_excel(pj(\"result\", \"comparison\", o.tasks[0], method, o.experiment, o.model, o.init_model, \"metrics_batch_bio.xlsx\"))\n",
    "        else:\n",
    "            df_sota[method] = pd.read_excel(pj(\"result\", \"comparison\", re.sub(\"_transfer\", \"\", o.tasks[0]), method, \"metrics_batch_bio.xlsx\"))\n",
    "        df_sota[method].rename(index={0: method}, inplace=True)\n",
    "    df_sota_cat = pd.concat(df_sota.values(), axis=0)\n",
    "\n",
    "    df_sota_cat[[\"Task\"]] = o.tasks[0]\n",
    "    df_sota_cat.loc[\"midas_feat+wnn\", \"Task\"] = o.tasks[0]\n",
    "    df_sota_cat\n",
    "    df_cat = pd.concat([df_batch_bio_embed_cat, df_sota_cat], axis=0)\n",
    "else:\n",
    "    df_cat = df_batch_bio_embed_cat\n"
   ]
  },
  {
   "cell_type": "code",
   "execution_count": null,
   "metadata": {},
   "outputs": [],
   "source": [
    "df_mean_cat = copy.deepcopy(df_cat)\n",
    "df_mean_cat[\"batch_score\"] = df_cat[[\"iLISI\", \"graph_conn\", \"kBET\"]].mean(axis=1)\n",
    "df_mean_cat[\"bio_score\"] = df_cat[[\"NMI\", \"ARI\", \"il_score_f1\", \"cLISI\"]].mean(axis=1)\n",
    "df_mean_cat[\"overall_score\"] = 0.4 * df_mean_cat[\"batch_score\"] + 0.6 * df_mean_cat[\"bio_score\"]\n",
    "df_mean_cat = df_mean_cat[[\"Task\", \"iLISI\", \"graph_conn\", \"kBET\", \"batch_score\", \"NMI\", \"ARI\", \"il_score_f1\", \"cLISI\", \"bio_score\", \"overall_score\"]]\n",
    "df_mean_cat_sorted = df_mean_cat.sort_values(\"overall_score\", ascending=False, inplace=False)\n",
    "df_mean_cat_sorted"
   ]
  },
  {
   "cell_type": "code",
   "execution_count": null,
   "metadata": {},
   "outputs": [],
   "source": [
    "# df_norm = copy.deepcopy(df)\n",
    "# for metric in metrics:\n",
    "#     v = [df[method][metric].values[0] for method in methods]\n",
    "#     v_min = min(v)\n",
    "#     v_max = max(v)\n",
    "#     for method in methods:\n",
    "#         df_norm[method][metric] = (df[method][metric] - v_min) / (v_max - v_min)\n",
    "# df_norm_cat = pd.concat(df_norm.values(), axis=0)\n",
    "# df_norm_cat[\"batch_score\"] = (df_norm_cat[\"iLISI\"] + df_norm_cat[\"graph_conn\"] + df_norm_cat[\"kBET\"]) / 3\n",
    "# df_norm_cat[\"bio_score\"] = (df_norm_cat[\"NMI\"] + df_norm_cat[\"ARI\"] + df_norm_cat[\"il_score_f1\"] + df_norm_cat[\"cLISI\"]) / 4\n",
    "# df_norm_cat[\"overall_score\"] = 0.4 * df_norm_cat[\"batch_score\"] + 0.6 * df_norm_cat[\"bio_score\"]\n",
    "# df_norm_cat = df_norm_cat[[\"iLISI\", \"graph_conn\", \"kBET\", \"batch_score\", \"NMI\", \"ARI\", \"il_score_f1\", \"cLISI\", \"bio_score\", \"overall_score\"]]\n",
    "# df_norm_cat"
   ]
  },
  {
   "cell_type": "code",
   "execution_count": null,
   "metadata": {},
   "outputs": [],
   "source": [
    "out_dir = pj(\"paper\", \"6\")\n",
    "utils.mkdir(out_dir, remove_old=False)\n",
    "if o.mosaic == 0:\n",
    "    ms = \"_sota_\"\n",
    "elif o.sota == 0:\n",
    "    ms = \"_mosaic_\"\n",
    "else:\n",
    "    ms = \"_sota+mosaic_\"\n",
    "if o.method == \"midas_embed\":\n",
    "    df_mean_cat_sorted.to_excel(pj(out_dir, \"scib_metrics\"+ms+o.tasks[0].split(\"_\")[0]+\"_\"+o.experiment+\"_\"+o.model+\"_\"+o.init_model+\"_sorted.xlsx\"))\n",
    "    df_mean_cat.to_excel(pj(out_dir, \"scib_metrics\"+ms+o.tasks[0].split(\"_\")[0]+\"_\"+o.experiment+\"_\"+o.model+\"_\"+o.init_model+\"_unsorted.xlsx\"))\n",
    "else:\n",
    "    df_mean_cat_sorted.to_excel(pj(out_dir, \"scib_metrics\"+ms+o.tasks[0].split(\"_\")[0]+\"_\"+o.method+\"_sorted.xlsx\"))\n",
    "    df_mean_cat.to_excel(pj(out_dir, \"scib_metrics\"+ms+o.tasks[0].split(\"_\")[0]+\"_\"+o.method+\"_unsorted.xlsx\"))"
   ]
  }
 ],
 "metadata": {
  "kernelspec": {
   "display_name": "Python 3.7.11 ('base')",
   "language": "python",
   "name": "python3"
  },
  "language_info": {
   "codemirror_mode": {
    "name": "ipython",
    "version": 3
   },
   "file_extension": ".py",
   "mimetype": "text/x-python",
   "name": "python",
   "nbconvert_exporter": "python",
   "pygments_lexer": "ipython3",
   "version": "3.8.8"
  },
  "vscode": {
   "interpreter": {
    "hash": "61a57a4b5406d2de388e2f91097d4e4bcd7d5f4a46f53a795aa28a02eed27fc5"
   }
  }
 },
 "nbformat": 4,
 "nbformat_minor": 2
}
