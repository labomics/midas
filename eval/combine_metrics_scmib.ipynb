{
 "cells": [
  {
   "cell_type": "code",
   "execution_count": null,
   "metadata": {},
   "outputs": [],
   "source": [
    "import os\n",
    "os.chdir(\"/root/workspace/code/sc-transformer/\")\n",
    "from os.path import join as pj\n",
    "import argparse\n",
    "import sys\n",
    "sys.path.append(\"modules\")\n",
    "import utils\n",
    "import numpy as np\n",
    "import anndata as ad\n",
    "import pandas as pd\n",
    "import copy"
   ]
  },
  {
   "cell_type": "code",
   "execution_count": null,
   "metadata": {},
   "outputs": [],
   "source": [
    "parser = argparse.ArgumentParser()\n",
    "parser.add_argument('--tasks', type=str, nargs='+',  default=[\"dogma_full\", \"dogma_paired_full\", \n",
    "    \"dogma_paired_abc\", \"dogma_paired_ab\",  \"dogma_paired_ac\", \"dogma_paired_bc\",\n",
    "    \"dogma_single_full\", \"dogma_single\"])\n",
    "parser.add_argument('--method', type=str, default='midas_embed')\n",
    "parser.add_argument('--experiment', type=str, default='e0')\n",
    "parser.add_argument('--model', type=str, default='default')\n",
    "parser.add_argument('--init_model', type=str, default='sp_00001899')\n",
    "o, _ = parser.parse_known_args()  # for python interactive\n",
    "# o = parser.parse_args()"
   ]
  },
  {
   "cell_type": "code",
   "execution_count": null,
   "metadata": {},
   "outputs": [],
   "source": [
    "df_batch_bio_embed = {}\n",
    "for task in o.tasks:\n",
    "    df_batch_bio_embed[task] = pd.read_excel(pj(\"result\", \"comparison\", task, o.method, o.experiment, o.init_model, \"metrics_batch_bio.xlsx\"))\n",
    "    df_batch_bio_embed[task].rename(index={0: task}, inplace=True)\n",
    "df_batch_bio_embed_cat = pd.concat(df_batch_bio_embed.values(), axis=0)\n",
    "df_batch_bio_embed_cat.rename(columns={c: c+\"_embed\" for c in df_batch_bio_embed_cat.columns}, inplace=True)\n",
    "df_batch_bio_embed_cat\n",
    "\n",
    "df_batch_bio_feat = {}\n",
    "for task in o.tasks:\n",
    "    df_batch_bio_feat[task] = pd.read_excel(pj(\"result\", \"comparison\", task, \"midas_feat+wnn\", o.experiment, o.init_model, \"metrics_batch_bio.xlsx\"))\n",
    "    df_batch_bio_feat[task].rename(index={0: task}, inplace=True)\n",
    "df_batch_bio_feat_cat = pd.concat(df_batch_bio_feat.values(), axis=0)\n",
    "df_batch_bio_feat_cat.rename(columns={c: c+\"_feat\" for c in df_batch_bio_feat_cat.columns}, inplace=True)\n",
    "df_batch_bio_feat_cat\n",
    "\n",
    "df_mod = {}\n",
    "for task in o.tasks:\n",
    "    df_mod[task] = pd.read_excel(pj(\"result\", \"comparison\", task, o.method, o.experiment, o.init_model, \"metrics_mod.xlsx\"))\n",
    "    df_mod[task].rename(index={0: task}, inplace=True)\n",
    "df_mod_cat = pd.concat(df_mod.values(), axis=0)\n",
    "df_mod_cat\n",
    "\n",
    "df_cat = pd.concat([df_batch_bio_embed_cat, df_batch_bio_feat_cat, df_mod_cat], axis=1)"
   ]
  },
  {
   "cell_type": "code",
   "execution_count": null,
   "metadata": {},
   "outputs": [],
   "source": [
    "\n",
    "df_mean_cat = copy.deepcopy(df_cat)\n",
    "df_mean_cat[\"batch_score\"] = df_cat[[\"iLISI_feat\",  \"graph_conn_feat\",  \"kBET_feat\",\n",
    "                                     \"iLISI_embed\", \"graph_conn_embed\", \"kBET_embed\"]].mean(axis=1)\n",
    "\n",
    "df_mean_cat[\"mod_score\"] = df_cat[[\"ASW_mod\", \"FOSCTTM\", \"Label_transfer\",\n",
    "                                   \"AUROC\", \"Pearson_RNA\", \"Pearson_ADT\"]].mean(axis=1)\n",
    "\n",
    "df_mean_cat[\"bio_score\"] = df_cat[[\"NMI_feat\",  \"ARI_feat\",  \"il_score_f1_feat\",  \"cLISI_feat\",\n",
    "                                   \"NMI_embed\", \"ARI_embed\", \"il_score_f1_embed\", \"cLISI_embed\"]].mean(axis=1)\n",
    "\n",
    "df_mean_cat[\"overall_score\"] =  0.3 * df_mean_cat[\"batch_score\"] + \\\n",
    "                                0.3 * df_mean_cat[\"mod_score\"] + \\\n",
    "                                0.4 * df_mean_cat[\"bio_score\"]\n",
    "\n",
    "df_mean_cat = df_mean_cat[[\"iLISI_feat\",  \"graph_conn_feat\",  \"kBET_feat\", \"iLISI_embed\", \"graph_conn_embed\", \"kBET_embed\", \"batch_score\",\n",
    "                           \"ASW_mod\", \"FOSCTTM\", \"Label_transfer\", \"AUROC\", \"Pearson_RNA\", \"Pearson_ADT\", \"mod_score\",\n",
    "                           \"NMI_feat\",  \"ARI_feat\",  \"il_score_f1_feat\",  \"cLISI_feat\", \"NMI_embed\", \"ARI_embed\", \"il_score_f1_embed\", \"cLISI_embed\", \"bio_score\",\n",
    "                           \"overall_score\"]]\n",
    "df_mean_cat_sorted = df_mean_cat.sort_values(\"overall_score\", ascending=False, inplace=False)\n",
    "df_mean_cat_sorted\n",
    "\n",
    "# df_mean_cat[[\"iLISI_feat\",  \"graph_conn_feat\",  \"kBET_feat\", \"iLISI_embed\", \"graph_conn_embed\", \"kBET_embed\", \"batch_score\"]]\n",
    "# df_mean_cat[[\"ASW_mod\", \"FOSCTTM\", \"Label_transfer\", \"AUROC\", \"Pearson_RNA\", \"Pearson_ADT\", \"mod_score\"]]\n",
    "# df_mean_cat[[\"NMI_feat\",  \"ARI_feat\",  \"il_score_f1_feat\",  \"cLISI_feat\", \"NMI_embed\", \"ARI_embed\", \"il_score_f1_embed\", \"cLISI_embed\", \"bio_score\"]]\n",
    "# df_mean_cat[[\"batch_score\", \"mod_score\", \"bio_score\", \"overall_score\"]]"
   ]
  },
  {
   "cell_type": "code",
   "execution_count": null,
   "metadata": {},
   "outputs": [],
   "source": [
    "out_dir = pj(\"eval\", \"plot\", \"data\")\n",
    "utils.mkdir(out_dir, remove_old=False)\n",
    "df_mean_cat_sorted.to_excel(pj(out_dir, \"scmib_metrics_\"+o.tasks[0].split(\"_\")[0]+\"_\"+o.init_model+\"_sorted.xlsx\"))\n",
    "df_mean_cat.to_excel(pj(out_dir, \"scmib_metrics_\"+o.tasks[0].split(\"_\")[0]+\"_\"+o.init_model+\"_unsorted.xlsx\"))"
   ]
  }
 ],
 "metadata": {
  "kernelspec": {
   "display_name": "Python 3.7.11 ('base')",
   "language": "python",
   "name": "python3"
  },
  "language_info": {
   "codemirror_mode": {
    "name": "ipython",
    "version": 3
   },
   "file_extension": ".py",
   "mimetype": "text/x-python",
   "name": "python",
   "nbconvert_exporter": "python",
   "pygments_lexer": "ipython3",
   "version": "3.7.11 (default, Jul 27 2021, 14:32:16) \n[GCC 7.5.0]"
  },
  "vscode": {
   "interpreter": {
    "hash": "61a57a4b5406d2de388e2f91097d4e4bcd7d5f4a46f53a795aa28a02eed27fc5"
   }
  }
 },
 "nbformat": 4,
 "nbformat_minor": 2
}
