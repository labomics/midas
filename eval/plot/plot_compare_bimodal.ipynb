{
 "cells": [
  {
   "cell_type": "code",
   "execution_count": 33,
   "metadata": {
    "vscode": {
     "languageId": "r"
    }
   },
   "outputs": [],
   "source": [
    "setwd(\"/root/workspace/code/midas/eval/plot\")\n",
    "source(\"/root/workspace/code/midas/preprocess/utils.R\")\n",
    "library(tibble)\n",
    "library(RColorBrewer)\n",
    "library(dynutils)\n",
    "library(stringr)\n",
    "library(Hmisc)\n",
    "library(plyr)\n",
    "library(gdata)\n",
    "library(scales)\n",
    "library(reshape)\n"
   ]
  },
  {
   "cell_type": "code",
   "execution_count": 34,
   "metadata": {
    "vscode": {
     "languageId": "r"
    }
   },
   "outputs": [],
   "source": [
    "data <- \"dogma\"\n",
    "# data <- \"teadog\"\n",
    "\n",
    "mods <- \"rna+atac\"\n",
    "# mods <- \"rna+adt\"\n",
    "\n",
    "\n",
    "outdir <- \"../../paper/3\"\n",
    "mkdir(outdir, remove_old = F)\n",
    "\n",
    "all   <- as.data.frame(read.xls(paste0(\"data/scib_metric_\", mods, \"_\", data, \".xlsx\")))\n",
    "names(all) <- c(\"Method\", \"Task\", \"Overall score\")\n"
   ]
  },
  {
   "cell_type": "code",
   "execution_count": 35,
   "metadata": {
    "vscode": {
     "languageId": "r"
    }
   },
   "outputs": [
    {
     "data": {
      "text/html": [
       "<table class=\"dataframe\">\n",
       "<caption>A data.frame: 25 x 3</caption>\n",
       "<thead>\n",
       "\t<tr><th scope=col>Method</th><th scope=col>Task</th><th scope=col>Overall score</th></tr>\n",
       "\t<tr><th scope=col>&lt;fct&gt;</th><th scope=col>&lt;fct&gt;</th><th scope=col>&lt;dbl&gt;</th></tr>\n",
       "</thead>\n",
       "<tbody>\n",
       "\t<tr><td>MIDAS  </td><td>dogma-paired         </td><td>0.7840964</td></tr>\n",
       "\t<tr><td>MIDAS  </td><td>dogma-rna+paired     </td><td>0.6734249</td></tr>\n",
       "\t<tr><td>MIDAS  </td><td>dogma-atac+paired    </td><td>0.6875599</td></tr>\n",
       "\t<tr><td>MIDAS  </td><td>dogma-diagonal+paired</td><td>0.7065743</td></tr>\n",
       "\t<tr><td>MIDAS  </td><td>dogma-diagonal       </td><td>0.5029574</td></tr>\n",
       "\t<tr><td>GLUE   </td><td>dogma-paired         </td><td>       NA</td></tr>\n",
       "\t<tr><td>GLUE   </td><td>dogma-rna+paired     </td><td>       NA</td></tr>\n",
       "\t<tr><td>GLUE   </td><td>dogma-atac+paired    </td><td>       NA</td></tr>\n",
       "\t<tr><td>GLUE   </td><td>dogma-diagonal+paired</td><td>       NA</td></tr>\n",
       "\t<tr><td>GLUE   </td><td>dogma-diagonal       </td><td>0.4087258</td></tr>\n",
       "\t<tr><td>uniPort</td><td>dogma-paired         </td><td>0.6407675</td></tr>\n",
       "\t<tr><td>uniPort</td><td>dogma-rna+paired     </td><td>       NA</td></tr>\n",
       "\t<tr><td>uniPort</td><td>dogma-atac+paired    </td><td>       NA</td></tr>\n",
       "\t<tr><td>uniPort</td><td>dogma-diagonal+paired</td><td>       NA</td></tr>\n",
       "\t<tr><td>uniPort</td><td>dogma-diagonal       </td><td>0.2732530</td></tr>\n",
       "\t<tr><td>MultiVI</td><td>dogma-paired         </td><td>0.7086749</td></tr>\n",
       "\t<tr><td>MultiVI</td><td>dogma-rna+paired     </td><td>0.6449853</td></tr>\n",
       "\t<tr><td>MultiVI</td><td>dogma-atac+paired    </td><td>0.6627372</td></tr>\n",
       "\t<tr><td>MultiVI</td><td>dogma-diagonal+paired</td><td>0.6869730</td></tr>\n",
       "\t<tr><td>MultiVI</td><td>dogma-diagonal       </td><td>       NA</td></tr>\n",
       "\t<tr><td>Cobolt </td><td>dogma-paired         </td><td>0.6143011</td></tr>\n",
       "\t<tr><td>Cobolt </td><td>dogma-rna+paired     </td><td>0.6220221</td></tr>\n",
       "\t<tr><td>Cobolt </td><td>dogma-atac+paired    </td><td>0.6474204</td></tr>\n",
       "\t<tr><td>Cobolt </td><td>dogma-diagonal+paired</td><td>0.6236697</td></tr>\n",
       "\t<tr><td>Cobolt </td><td>dogma-diagonal       </td><td>       NA</td></tr>\n",
       "</tbody>\n",
       "</table>\n"
      ],
      "text/latex": [
       "A data.frame: 25 x 3\n",
       "\\begin{tabular}{lll}\n",
       " Method & Task & Overall score\\\\\n",
       " <fct> & <fct> & <dbl>\\\\\n",
       "\\hline\n",
       "\t MIDAS   & dogma-paired          & 0.7840964\\\\\n",
       "\t MIDAS   & dogma-rna+paired      & 0.6734249\\\\\n",
       "\t MIDAS   & dogma-atac+paired     & 0.6875599\\\\\n",
       "\t MIDAS   & dogma-diagonal+paired & 0.7065743\\\\\n",
       "\t MIDAS   & dogma-diagonal        & 0.5029574\\\\\n",
       "\t GLUE    & dogma-paired          &        NA\\\\\n",
       "\t GLUE    & dogma-rna+paired      &        NA\\\\\n",
       "\t GLUE    & dogma-atac+paired     &        NA\\\\\n",
       "\t GLUE    & dogma-diagonal+paired &        NA\\\\\n",
       "\t GLUE    & dogma-diagonal        & 0.4087258\\\\\n",
       "\t uniPort & dogma-paired          & 0.6407675\\\\\n",
       "\t uniPort & dogma-rna+paired      &        NA\\\\\n",
       "\t uniPort & dogma-atac+paired     &        NA\\\\\n",
       "\t uniPort & dogma-diagonal+paired &        NA\\\\\n",
       "\t uniPort & dogma-diagonal        & 0.2732530\\\\\n",
       "\t MultiVI & dogma-paired          & 0.7086749\\\\\n",
       "\t MultiVI & dogma-rna+paired      & 0.6449853\\\\\n",
       "\t MultiVI & dogma-atac+paired     & 0.6627372\\\\\n",
       "\t MultiVI & dogma-diagonal+paired & 0.6869730\\\\\n",
       "\t MultiVI & dogma-diagonal        &        NA\\\\\n",
       "\t Cobolt  & dogma-paired          & 0.6143011\\\\\n",
       "\t Cobolt  & dogma-rna+paired      & 0.6220221\\\\\n",
       "\t Cobolt  & dogma-atac+paired     & 0.6474204\\\\\n",
       "\t Cobolt  & dogma-diagonal+paired & 0.6236697\\\\\n",
       "\t Cobolt  & dogma-diagonal        &        NA\\\\\n",
       "\\end{tabular}\n"
      ],
      "text/markdown": [
       "\n",
       "A data.frame: 25 x 3\n",
       "\n",
       "| Method &lt;fct&gt; | Task &lt;fct&gt; | Overall score &lt;dbl&gt; |\n",
       "|---|---|---|\n",
       "| MIDAS   | dogma-paired          | 0.7840964 |\n",
       "| MIDAS   | dogma-rna+paired      | 0.6734249 |\n",
       "| MIDAS   | dogma-atac+paired     | 0.6875599 |\n",
       "| MIDAS   | dogma-diagonal+paired | 0.7065743 |\n",
       "| MIDAS   | dogma-diagonal        | 0.5029574 |\n",
       "| GLUE    | dogma-paired          |        NA |\n",
       "| GLUE    | dogma-rna+paired      |        NA |\n",
       "| GLUE    | dogma-atac+paired     |        NA |\n",
       "| GLUE    | dogma-diagonal+paired |        NA |\n",
       "| GLUE    | dogma-diagonal        | 0.4087258 |\n",
       "| uniPort | dogma-paired          | 0.6407675 |\n",
       "| uniPort | dogma-rna+paired      |        NA |\n",
       "| uniPort | dogma-atac+paired     |        NA |\n",
       "| uniPort | dogma-diagonal+paired |        NA |\n",
       "| uniPort | dogma-diagonal        | 0.2732530 |\n",
       "| MultiVI | dogma-paired          | 0.7086749 |\n",
       "| MultiVI | dogma-rna+paired      | 0.6449853 |\n",
       "| MultiVI | dogma-atac+paired     | 0.6627372 |\n",
       "| MultiVI | dogma-diagonal+paired | 0.6869730 |\n",
       "| MultiVI | dogma-diagonal        |        NA |\n",
       "| Cobolt  | dogma-paired          | 0.6143011 |\n",
       "| Cobolt  | dogma-rna+paired      | 0.6220221 |\n",
       "| Cobolt  | dogma-atac+paired     | 0.6474204 |\n",
       "| Cobolt  | dogma-diagonal+paired | 0.6236697 |\n",
       "| Cobolt  | dogma-diagonal        |        NA |\n",
       "\n"
      ],
      "text/plain": [
       "   Method  Task                  Overall score\n",
       "1  MIDAS   dogma-paired          0.7840964    \n",
       "2  MIDAS   dogma-rna+paired      0.6734249    \n",
       "3  MIDAS   dogma-atac+paired     0.6875599    \n",
       "4  MIDAS   dogma-diagonal+paired 0.7065743    \n",
       "5  MIDAS   dogma-diagonal        0.5029574    \n",
       "6  GLUE    dogma-paired                 NA    \n",
       "7  GLUE    dogma-rna+paired             NA    \n",
       "8  GLUE    dogma-atac+paired            NA    \n",
       "9  GLUE    dogma-diagonal+paired        NA    \n",
       "10 GLUE    dogma-diagonal        0.4087258    \n",
       "11 uniPort dogma-paired          0.6407675    \n",
       "12 uniPort dogma-rna+paired             NA    \n",
       "13 uniPort dogma-atac+paired            NA    \n",
       "14 uniPort dogma-diagonal+paired        NA    \n",
       "15 uniPort dogma-diagonal        0.2732530    \n",
       "16 MultiVI dogma-paired          0.7086749    \n",
       "17 MultiVI dogma-rna+paired      0.6449853    \n",
       "18 MultiVI dogma-atac+paired     0.6627372    \n",
       "19 MultiVI dogma-diagonal+paired 0.6869730    \n",
       "20 MultiVI dogma-diagonal               NA    \n",
       "21 Cobolt  dogma-paired          0.6143011    \n",
       "22 Cobolt  dogma-rna+paired      0.6220221    \n",
       "23 Cobolt  dogma-atac+paired     0.6474204    \n",
       "24 Cobolt  dogma-diagonal+paired 0.6236697    \n",
       "25 Cobolt  dogma-diagonal               NA    "
      ]
     },
     "metadata": {},
     "output_type": "display_data"
    }
   ],
   "source": [
    "if (mods == \"rna+atac\") {\n",
    "    all[[\"Method\"]] <- factor(x = all[[\"Method\"]], levels = c(\"GLUE\", \"uniPort\", \"Cobolt\", \"MultiVI\", \"MIDAS\"))\n",
    "    all[[\"Task\"]] <- factor(x = all[[\"Task\"]], levels = paste0(data, c(\n",
    "        \"-paired\",\n",
    "        \"-rna+paired\",\n",
    "        \"-atac+paired\",\n",
    "        \"-diagonal+paired\",\n",
    "        \"-diagonal\")))\n",
    "} else {\n",
    "    all[[\"Method\"]] <- factor(x = all[[\"Method\"]], levels = c(\"sciPENN\", \"totalVI\", \"MIDAS\"))\n",
    "    all[[\"Task\"]] <- factor(x = all[[\"Task\"]], levels = paste0(data, c(\n",
    "        \"-paired\",\n",
    "        \"-rna+paired\",\n",
    "        \"-adt+paired\",\n",
    "        \"-diagonal+paired\",\n",
    "        \"-diagonal\")))\n",
    "}\n",
    "\n",
    "\n",
    "all"
   ]
  },
  {
   "cell_type": "code",
   "execution_count": 36,
   "metadata": {
    "vscode": {
     "languageId": "r"
    }
   },
   "outputs": [
    {
     "name": "stderr",
     "output_type": "stream",
     "text": [
      "Warning message:\n",
      "\"\u001b[1m\u001b[22mRemoved 9 rows containing missing values (`geom_bar()`).\"\n",
      "Warning message:\n",
      "\"\u001b[1m\u001b[22mRemoved 9 rows containing missing values (`geom_bar()`).\"\n",
      "Warning message:\n",
      "\"\u001b[1m\u001b[22mRemoved 9 rows containing missing values (`geom_bar()`).\"\n"
     ]
    },
    {
     "data": {
      "image/png": "[encoded data removed]",
      "text/plain": [
       "plot without title"
      ]
     },
     "metadata": {
      "image/png": {
       "height": 240,
       "width": 384
      }
     },
     "output_type": "display_data"
    }
   ],
   "source": [
    "y_min <- floor(min(all[[\"Overall score\"]], na.rm=TRUE) / 0.05) * 0.05\n",
    "y_max <- ceil(max(all[[\"Overall score\"]], na.rm=TRUE) / 0.05) * 0.05\n",
    "p <- ggplot(data = all, aes(x = .data[[\"Task\"]],\n",
    "                                 y = .data[[\"Overall score\"]],\n",
    "                                 fill = .data[[\"Method\"]], width = 0.5)) +\n",
    "geom_bar(stat = \"identity\", position = position_dodge(width = 0.5 + 0.1)) +\n",
    "scale_fill_brewer(palette = \"Set1\", direction = -1) +\n",
    "  scale_y_continuous(\n",
    "    limits = c(y_min, y_max),\n",
    "    oob = rescale_none,\n",
    "    breaks = seq(0, 1, by = 0.05),\n",
    "    expand = c(0, 0), # The vertical axis does not extend to either side\n",
    "    # position = \"top\"  # Labels are located on the top\n",
    "  ) +\n",
    "  # scale_y_discrete(expand = expansion(add = c(0, 0.5))) +\n",
    "  theme(\n",
    "    panel.background = element_rect(fill = \"white\"), # Set background color to white\n",
    "    panel.grid.major.y = element_line(color = \"#A8BAC4\", size = 0.3), # Set the color and the width of the grid lines for the horizontal axis\n",
    "    panel.grid.major.x = element_blank(),\n",
    "    axis.ticks.length = unit(0, \"mm\"), # Remove tick marks by setting their length to 0\n",
    "    # axis.title = element_blank(), # Remove the title for both axes\n",
    "    # axis.line.y.left = element_line(color = \"black\"), # Only left line of the vertical axis is painted in black\n",
    "    # axis.text.y = element_blank(),\n",
    "    axis.text.x = element_text(size = 11)\n",
    "    # axis.text.x = element_text(family = \"Econ Sans Cnd\", size = 16)\n",
    "  ) +\n",
    "  # rna + adt\n",
    "  theme(axis.text.x = element_text(angle = 45, hjust = 1)) +\n",
    "  geom_text(\n",
    "    data = subset(all, all[[\"Method\"]] == \"sciPENN\" & is.na(all[[\"Overall score\"]])),\n",
    "    aes(y = y_min, label = \"NA\"),\n",
    "    hjust = 0,\n",
    "    nudge_x = -0.2,\n",
    "    colour = \"black\",\n",
    "    size = 3,\n",
    "    angle = 90\n",
    "  ) +\n",
    "  geom_text(\n",
    "    data = subset(all, all[[\"Method\"]] == \"totalVI\" & is.na(all[[\"Overall score\"]])),\n",
    "    aes(y = y_min, label = \"NA\"),\n",
    "    hjust = 0,\n",
    "    nudge_x = 0.0,\n",
    "    colour = \"black\",\n",
    "    size = 3,\n",
    "    angle = 90\n",
    "  ) +\n",
    "  # rna + atac\n",
    "  geom_text(\n",
    "    data = subset(all, all[[\"Method\"]] == \"GLUE\" & is.na(all[[\"Overall score\"]])),\n",
    "    aes(y = y_min, label = \"NA\"),\n",
    "    hjust = 0,\n",
    "    nudge_x = -0.23,\n",
    "    colour = \"black\",\n",
    "    size = 3,\n",
    "    angle = 90\n",
    "  ) +\n",
    "  geom_text(\n",
    "    data = subset(all, all[[\"Method\"]] == \"uniPort\" & is.na(all[[\"Overall score\"]])),\n",
    "    aes(y = y_min, label = \"NA\"),\n",
    "    hjust = 0,\n",
    "    nudge_x = -0.115,\n",
    "    colour = \"black\",\n",
    "    size = 3,\n",
    "    angle = 90\n",
    "  ) +\n",
    "  geom_text(\n",
    "    data = subset(all, all[[\"Method\"]] == \"Cobolt\" & is.na(all[[\"Overall score\"]])),\n",
    "    aes(y = y_min, label = \"NA\"),\n",
    "    hjust = 0,\n",
    "    nudge_x = 0,\n",
    "    colour = \"black\",\n",
    "    size = 3,\n",
    "    angle = 90\n",
    "  ) +\n",
    "  geom_text(\n",
    "    data = subset(all, all[[\"Method\"]] == \"MultiVI\" & is.na(all[[\"Overall score\"]])),\n",
    "    aes(y = y_min, label = \"NA\"),\n",
    "    hjust = 0,\n",
    "    nudge_x = 0.115,\n",
    "    colour = \"black\",\n",
    "    size = 3,\n",
    "    angle = 90\n",
    "  )\n",
    "\n",
    "if (mods == \"rna+atac\") {\n",
    "  w <- 6.4\n",
    "} else {\n",
    "  w <- 4.5\n",
    "}\n",
    "h <- 4\n",
    "plt_size(w, h)\n",
    "p\n",
    "ggsave(plot = p, file = pj(outdir, paste0(\"3c_mosaic_scib_score_\", mods, \"_\", data, \".png\")), width = w, height = h, limitsize = F)\n",
    "ggsave(plot = p, file = pj(outdir, paste0(\"3c_mosaic_scib_score_\", mods, \"_\", data, \".pdf\")), width = w, height = h, limitsize = F)"
   ]
  }
 ],
 "metadata": {
  "interpreter": {
   "hash": "61a57a4b5406d2de388e2f91097d4e4bcd7d5f4a46f53a795aa28a02eed27fc5"
  },
  "kernelspec": {
   "display_name": "R",
   "language": "R",
   "name": "ir"
  },
  "language_info": {
   "codemirror_mode": "r",
   "file_extension": ".r",
   "mimetype": "text/x-r-source",
   "name": "R",
   "pygments_lexer": "r",
   "version": "4.1.0"
  },
  "orig_nbformat": 4
 },
 "nbformat": 4,
 "nbformat_minor": 2
}
