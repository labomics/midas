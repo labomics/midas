{
 "cells": [
  {
   "cell_type": "code",
   "execution_count": 1,
   "metadata": {
    "vscode": {
     "languageId": "r"
    }
   },
   "outputs": [
    {
     "name": "stderr",
     "output_type": "stream",
     "text": [
      "\n",
      "Attaching package: 'Hmisc'\n",
      "\n",
      "\n",
      "The following objects are masked from 'package:base':\n",
      "\n",
      "    format.pval, units\n",
      "\n",
      "\n",
      "\n",
      "Attaching package: 'plyr'\n",
      "\n",
      "\n",
      "The following objects are masked from 'package:Hmisc':\n",
      "\n",
      "    is.discrete, summarize\n",
      "\n",
      "\n",
      "gdata: read.xls support for 'XLS' (Excel 97-2004) files ENABLED.\n",
      "\n",
      "\n",
      "\n",
      "gdata: read.xls support for 'XLSX' (Excel 2007+) files ENABLED.\n",
      "\n",
      "\n",
      "Attaching package: 'gdata'\n",
      "\n",
      "\n",
      "The following object is masked from 'package:stats':\n",
      "\n",
      "    nobs\n",
      "\n",
      "\n",
      "The following object is masked from 'package:utils':\n",
      "\n",
      "    object.size\n",
      "\n",
      "\n",
      "The following object is masked from 'package:base':\n",
      "\n",
      "    startsWith\n",
      "\n",
      "\n",
      "\n",
      "Attaching package: 'dplyr'\n",
      "\n",
      "\n",
      "The following objects are masked from 'package:gdata':\n",
      "\n",
      "    combine, first, last\n",
      "\n",
      "\n",
      "The following objects are masked from 'package:plyr':\n",
      "\n",
      "    arrange, count, desc, failwith, id, mutate, rename, summarise,\n",
      "    summarize\n",
      "\n",
      "\n",
      "The following objects are masked from 'package:Hmisc':\n",
      "\n",
      "    src, summarize\n",
      "\n",
      "\n",
      "The following objects are masked from 'package:stats':\n",
      "\n",
      "    filter, lag\n",
      "\n",
      "\n",
      "The following objects are masked from 'package:base':\n",
      "\n",
      "    intersect, setdiff, setequal, union\n",
      "\n",
      "\n",
      "Loading required package: ggplot2\n",
      "\n",
      "\n",
      "Attaching package: 'cowplot'\n",
      "\n",
      "\n",
      "The following object is masked from 'package:ggimage':\n",
      "\n",
      "    theme_nothing\n",
      "\n",
      "\n"
     ]
    }
   ],
   "source": [
    "setwd(\"/root/workspace/code/midas/eval/plot\")\n",
    "source(\"/root/workspace/code/midas/utils/utils.R\")\n",
    "library(tibble)\n",
    "library(RColorBrewer)\n",
    "library(dynutils)\n",
    "library(stringr)\n",
    "library(Hmisc)\n",
    "library(plyr)\n",
    "library(gdata)\n",
    "source(\"knit_table.R\")\n",
    "\n",
    "parser <- ArgumentParser()\n",
    "parser$add_argument(\"--fig\", type = \"integer\", default = 16)\n",
    "o <- parser$parse_known_args()[[1]]"
   ]
  },
  {
   "cell_type": "code",
   "execution_count": 39,
   "metadata": {
    "vscode": {
     "languageId": "r"
    }
   },
   "outputs": [],
   "source": [
    "method <- \"midas\"\n",
    "if (o$fig == 1) {\n",
    "    # dogma scib (main)\n",
    "    dataset <- \"dogma\"\n",
    "    sota <- T\n",
    "    mosaic <- F\n",
    "    scmib <- F\n",
    "    transfer <- F\n",
    "    outdir <- \"../../paper/metrics/fig 2\"\n",
    "    img_head <- \"Fig2c_\"\n",
    "}\n",
    "if (o$fig == 2) {\n",
    "    # teadog scib\n",
    "    dataset <- \"teadog\"\n",
    "    sota <- T\n",
    "    mosaic <- F\n",
    "    scmib <- F\n",
    "    transfer <- F\n",
    "    outdir <- \"../../paper/metrics/supplementary fig 2\"\n",
    "    img_head <- \"sFig2_\"\n",
    "}\n",
    "if (o$fig == 3) {\n",
    "    # dogma scmib (main)\n",
    "    dataset <- \"dogma\"\n",
    "    sota <- F\n",
    "    mosaic <- T\n",
    "    scmib <- T\n",
    "    transfer <- F\n",
    "    outdir <- \"../../paper/metrics/fig 3\"\n",
    "    img_head <- \"Fig3b_\"\n",
    "}\n",
    "if (o$fig == 4) {\n",
    "    # teadog scmib\n",
    "    dataset <- \"teadog\"\n",
    "    sota <- F\n",
    "    mosaic <- T\n",
    "    scmib <- T\n",
    "    transfer <- F\n",
    "    outdir <- \"../../paper/metrics/supplementary fig 3\"\n",
    "    img_head <- \"sFig3_\"\n",
    "}\n",
    "if (o$fig == 5) {\n",
    "    # dogma + sota, scib\n",
    "    dataset <- \"dogma\"\n",
    "    sota <- T\n",
    "    mosaic <- T\n",
    "    scmib <- F\n",
    "    transfer <- F\n",
    "    outdir <- \"../../paper/metrics/supplementary fig 3\"\n",
    "    img_head <- \"sFig3_\"\n",
    "}\n",
    "if (o$fig == 6) {\n",
    "    # teadog + sota, scib\n",
    "    dataset <- \"teadog\"\n",
    "    sota <- T\n",
    "    mosaic <- T\n",
    "    scmib <- F\n",
    "    transfer <- F\n",
    "    outdir <- \"../../paper/metrics/supplementary fig 3\"\n",
    "    img_head <- \"sFig3_\"\n",
    "}\n",
    "if (o$fig == 7) {\n",
    "    # dogma transfer, scmib\n",
    "    dataset <- \"dogma\"\n",
    "    sota <- F\n",
    "    mosaic <- T\n",
    "    scmib <- T\n",
    "    transfer <- T\n",
    "    outdir <- \"../../paper/metrics/supplementary fig 5\"\n",
    "    img_head <- \"sFig5_\"\n",
    "}\n",
    "if (o$fig == 8) {\n",
    "    # dogma transfer + sota, scib\n",
    "    dataset <- \"dogma\"\n",
    "    sota <- T\n",
    "    mosaic <- T\n",
    "    scmib <- F\n",
    "    transfer <- T\n",
    "    outdir <- \"../../paper/metrics/supplementary fig 5\"\n",
    "    img_head <- \"sFig5_\"\n",
    "}\n",
    "\n",
    "\n",
    "\n",
    "# comparing mosaic methods\n",
    "if (o$fig == 9) {\n",
    "    # dogma mosaic, scib\n",
    "    method <- \"scmomat\"\n",
    "    dataset <- \"dogma\"\n",
    "    sota <- F\n",
    "    mosaic <- T\n",
    "    scmib <- F\n",
    "    transfer <- F\n",
    "    outdir <- \"../../paper/metrics/supplementary fig 3\"\n",
    "    img_head <- paste0(\"sFig3_\", method, \"_\")\n",
    "}\n",
    "if (o$fig == 10) {\n",
    "    # teadog mosaic, scib\n",
    "    method <- \"scmomat\"\n",
    "    dataset <- \"teadog\"\n",
    "    sota <- F\n",
    "    mosaic <- T\n",
    "    scmib <- F\n",
    "    transfer <- F\n",
    "    outdir <- \"../../paper/metrics/supplementary fig 3\"\n",
    "    img_head <- paste0(\"sFig3_\", method, \"_\")\n",
    "}\n",
    "if (o$fig == 11) {\n",
    "    # dogma mosaic, scib\n",
    "    method <- \"stabmap\"\n",
    "    dataset <- \"dogma\"\n",
    "    sota <- F\n",
    "    mosaic <- T\n",
    "    scmib <- F\n",
    "    transfer <- F\n",
    "    outdir <- \"../../paper/metrics/supplementary fig 3\"\n",
    "    img_head <- paste0(\"sFig3_\", method, \"_\")\n",
    "}\n",
    "if (o$fig == 12) {\n",
    "    # teadog mosaic, scib\n",
    "    method <- \"stabmap\"\n",
    "    dataset <- \"teadog\"\n",
    "    sota <- F\n",
    "    mosaic <- T\n",
    "    scmib <- F\n",
    "    transfer <- F\n",
    "    outdir <- \"../../paper/metrics/supplementary fig 3\"\n",
    "    img_head <- paste0(\"sFig3_\", method, \"_\")\n",
    "}\n",
    "if (o$fig == 13) {\n",
    "    # dogma mosaic, scib\n",
    "    method <- \"scvaeit\"\n",
    "    dataset <- \"dogma\"\n",
    "    sota <- F\n",
    "    mosaic <- T\n",
    "    scmib <- F\n",
    "    transfer <- F\n",
    "    outdir <- \"../../paper/metrics/supplementary fig 3\"\n",
    "    img_head <- paste0(\"sFig3_\", method, \"_\")\n",
    "}\n",
    "if (o$fig == 14) {\n",
    "    # teadog mosaic, scib\n",
    "    method <- \"scvaeit\"\n",
    "    dataset <- \"teadog\"\n",
    "    sota <- F\n",
    "    mosaic <- T\n",
    "    scmib <- F\n",
    "    transfer <- F\n",
    "    outdir <- \"../../paper/metrics/supplementary fig 3\"\n",
    "    img_head <- paste0(\"sFig3_\", method, \"_\")\n",
    "}\n",
    "if (o$fig == 15) {\n",
    "    # dogma mosaic, scib\n",
    "    method <- \"multigrate\"\n",
    "    dataset <- \"dogma\"\n",
    "    sota <- F\n",
    "    mosaic <- T\n",
    "    scmib <- F\n",
    "    transfer <- F\n",
    "    outdir <- \"../../paper/metrics/supplementary fig 3\"\n",
    "    img_head <- paste0(\"sFig3_\", method, \"_\")\n",
    "}\n",
    "if (o$fig == 16) {\n",
    "    # teadog mosaic, scib\n",
    "    method <- \"multigrate\"\n",
    "    dataset <- \"teadog\"\n",
    "    sota <- F\n",
    "    mosaic <- T\n",
    "    scmib <- F\n",
    "    transfer <- F\n",
    "    outdir <- \"../../paper/metrics/supplementary fig 3\"\n",
    "    img_head <- paste0(\"sFig3_\", method, \"_\")\n",
    "}\n",
    "if (o$fig == 17) {\n",
    "    # dogma mosaic, scib\n",
    "    method <- \"midas\"\n",
    "    dataset <- \"dogma\"\n",
    "    sota <- F\n",
    "    mosaic <- T\n",
    "    scmib <- F\n",
    "    transfer <- F\n",
    "    outdir <- \"../../paper/metrics/supplementary fig 3\"\n",
    "    img_head <- paste0(\"sFig3_\", method, \"_\")\n",
    "}\n",
    "if (o$fig == 18) {\n",
    "    # teadog mosaic, scib\n",
    "    method <- \"midas\"\n",
    "    dataset <- \"teadog\"\n",
    "    sota <- F\n",
    "    mosaic <- T\n",
    "    scmib <- F\n",
    "    transfer <- F\n",
    "    outdir <- \"../../paper/metrics/supplementary fig 3\"\n",
    "    img_head <- paste0(\"sFig3_\", method, \"_\")\n",
    "}"
   ]
  },
  {
   "cell_type": "code",
   "execution_count": 68,
   "metadata": {
    "vscode": {
     "languageId": "r"
    }
   },
   "outputs": [],
   "source": [
    "# de novo, dogma single\n",
    "method <- \"midas\"\n",
    "dataset <- \"dogma\"\n",
    "sota <- F\n",
    "mosaic <- T\n",
    "scmib <- F\n",
    "transfer <- F\n",
    "outdir <- \"../../paper/metrics/supplementary fig 3\"\n",
    "img_head <- \"sFig3_\"\n",
    "\n",
    "xls_metrics_path <- paste0(\"data/scib_metrics_sota+mosaic_dogma_single_atac_e0_l_2_sp_00001899_sorted_R1_12.xlsx\")\n",
    "xls_metrics_path <- paste0(\"data/scib_metrics_sota+mosaic_dogma_single_rna_e0_l_2_sp_00001999_sorted_R1_12.xlsx\")\n",
    "# xls_metrics_path <- paste0(\"data/scib_metrics_sota+mosaic_dogma_single_adt_e0_default_sp_00001899_sorted_R1_12.xlsx\")\n"
   ]
  },
  {
   "cell_type": "code",
   "execution_count": 27,
   "metadata": {
    "vscode": {
     "languageId": "r"
    }
   },
   "outputs": [],
   "source": [
    "# de novo, bm\n",
    "method <- \"midas\"\n",
    "dataset <- \"bm\"\n",
    "scmib <- F\n",
    "transfer <- F\n",
    "outdir <- \"../../paper/metrics/supplementary fig 6\"\n",
    "img_head <- \"sFig6_\"\n",
    "\n",
    "xls_metrics_path <- paste0(\"data/scib_metrics_sota+mosaic_bm_e0_la_1_sp_00001899_sorted.xlsx\")\n"
   ]
  },
  {
   "cell_type": "code",
   "execution_count": 2,
   "metadata": {
    "vscode": {
     "languageId": "r"
    }
   },
   "outputs": [],
   "source": [
    "# transfer, bm\n",
    "method <- \"midas\"\n",
    "dataset <- \"bm\"\n",
    "scmib <- F\n",
    "transfer <- F\n",
    "outdir <- \"../../paper/metrics/supplementary fig 6\"\n",
    "img_head <- \"sFig6_\"\n",
    "\n",
    "xls_metrics_path <- paste0(\"data/scib_metrics_mosaic_bm_no_map_ref_default_sp_00003599_sorted.xlsx\")"
   ]
  },
  {
   "cell_type": "code",
   "execution_count": 42,
   "metadata": {
    "vscode": {
     "languageId": "r"
    }
   },
   "outputs": [],
   "source": [
    "# init <- ifelse(transfer, \"sp_00003699\", \"sp_00001899\")\n",
    "\n",
    "# if (sota & !mosaic) {\n",
    "#     xls_metrics_path <- paste0(\"data/scib_metrics_sota_\",        dataset, \"_e0_\", init, \"_sorted.xlsx\")\n",
    "# } else if (!sota & mosaic) {\n",
    "#     if (method == \"midas\") {\n",
    "#         xls_metrics_path <- paste0(\"data/scib_metrics_mosaic_\",      dataset, \"_e0_\", init, \"_sorted.xlsx\")\n",
    "#     } else {\n",
    "#         xls_metrics_path <- paste0(\"data/scib_metrics_mosaic_\", dataset, \"_\", method, \"_sorted.xlsx\")\n",
    "#     }\n",
    "# } else {\n",
    "#     if (dataset == \"dogma\" & !transfer) {\n",
    "#          xls_metrics_path <- paste0(\"data/scib_metrics_sota+mosaic_\", dataset, \"_e0_\", init, \"_sorted+less_mod.xlsx\")\n",
    "#     } else {\n",
    "#         xls_metrics_path <- paste0(\"data/scib_metrics_sota+mosaic_\", dataset, \"_e0_\", init, \"_sorted.xlsx\")\n",
    "#     }\n",
    "# }\n",
    "\n",
    "# if (scmib) {\n",
    "#     xls_metrics_path <- paste0(\"data/scmib_metrics_\", dataset, \"_\", init, \"_sorted.xlsx\")\n",
    "# }\n",
    "\n",
    "# mkdir(outdir, remove_old = F)"
   ]
  },
  {
   "cell_type": "code",
   "execution_count": 3,
   "metadata": {
    "vscode": {
     "languageId": "r"
    }
   },
   "outputs": [],
   "source": [
    "metrics_tab <- read.xls(xls_metrics_path)\n",
    "# metrics_tab <- as.data.frame(metrics_tab[, -1])\n",
    "metrics_tab <- as.data.frame(metrics_tab)\n",
    "names(metrics_tab)[1] <- \"Method\"\n",
    "metrics_tab <- metrics_tab[order(metrics_tab$`overall_score`,  decreasing = T), ]\n",
    "\n",
    "\n",
    "metrics_tab <- metrics_tab[metrics_tab[[\"Method\"]] != \"midas_feat+wnn\", ]"
   ]
  },
  {
   "cell_type": "code",
   "execution_count": 4,
   "metadata": {
    "vscode": {
     "languageId": "r"
    }
   },
   "outputs": [],
   "source": [
    "if (scmib) {\n",
    "    group_batch <- c(\"iLISI_feat\",  \"graph_conn_feat\",  \"kBET_feat\", \"iLISI_embed\", \"graph_conn_embed\", \"kBET_embed\")\n",
    "    group_mod <- c(\"ASW_mod\", \"FOSCTTM\", \"Label_transfer\", \"AUROC\", \"Pearson_RNA\", \"Pearson_ADT\")\n",
    "    group_bio <- c(\"NMI_feat\",  \"ARI_feat\",  \"il_score_f1_feat\",  \"cLISI_feat\", \"NMI_embed\", \"ARI_embed\", \"il_score_f1_embed\", \"cLISI_embed\")\n",
    "    metrics_tab <- add_column(metrics_tab, \"Task\" = metrics_tab[, 1], .after = \"Method\")\n",
    "    metrics_tab[[\"Method\"]] <- \"midas_embed\"\n",
    "} else {\n",
    "    group_batch <- c(\"iLISI\", \"graph_conn\", \"kBET\")\n",
    "    group_mod <- NULL\n",
    "    group_bio <- c(\"NMI\", \"ARI\", \"il_score_f1\", \"cLISI\")\n",
    "}\n",
    "n_metrics_batch <- length(group_batch)\n",
    "n_metrics_mod <- length(group_mod)\n",
    "n_metrics_bio <- length(group_bio)"
   ]
  },
  {
   "cell_type": "code",
   "execution_count": 5,
   "metadata": {
    "vscode": {
     "languageId": "r"
    }
   },
   "outputs": [],
   "source": [
    "names(metrics_tab) <- str_replace_all(names(metrics_tab), c(\n",
    "    \"iLISI\" = \"Graph iLISI\",\n",
    "    \"graph_conn\" = \"Graph connectivity\",\n",
    "    \"il_score_f1\" = \"Isolated label F1\",\n",
    "    \"batch_score\" = \"Batch correction\",\n",
    "    \"ASW_mod\" = \"Modality ASW\",\n",
    "    \"Label_transfer\" = \"Label transfer F1\",\n",
    "    \"AUROC\" = \"ATAC AUROC\",\n",
    "    \"Pearson_RNA\" = \"RNA Pearson's R\",\n",
    "    \"Pearson_ADT\" = \"ADT Pearson's R\",\n",
    "    \"mod_score\" = \"Modality alignment\",\n",
    "    \"cLISI\" = \"Graph cLISI\",\n",
    "    \"bio_score\" = \"Biological conservation\",\n",
    "    \"overall_score\" = \"Overall score\",\n",
    "    \"_embed\" = \" (embed)\",\n",
    "    \"_feat\" = \" (feat)\"\n",
    "))\n",
    "metrics_tab[, \"Method\"] <- str_replace_all(metrics_tab[, \"Method\"], c(\n",
    "    \"midas_embed\" = \"MIDAS\",\n",
    "    \"midas_feat\\\\+wnn\" = \"MIDAS-feat + WNN\",\n",
    "    \"bbknn\" = \"BBKNN + average\",\n",
    "    \"harmony\\\\+wnn\" = \"Harmony + WNN\",\n",
    "    \"seurat_cca\\\\+wnn\" = \"Seurat-CCA + WNN\",\n",
    "    \"seurat_rpca\\\\+wnn\" = \"Seurat-RPCA + WNN\",\n",
    "    \"scanorama_embed\\\\+wnn\" = \"Scanorama-embed + WNN\",\n",
    "    \"pca\\\\+wnn\" = \"PCA + WNN\",\n",
    "    \"scanorama_feat\\\\+wnn\" = \"Scanorama-feat + WNN\",\n",
    "    \"liger\\\\+wnn\" = \"LIGER + WNN\",\n",
    "    \"mofa\" = \"MOFA+\",\n",
    "    \"multigrate\" = \"Multigrate\",\n",
    "    \"stabmap\" = \"StabMap\",\n",
    "    \"scvaeit\" = \"scVAEIT\",\n",
    "    \"scmomat\" = \"scMoMaT\"\n",
    "))\n",
    "metrics_tab[, \"Task\"] <- str_replace_all(metrics_tab[, \"Task\"], c(\n",
    "    \"dogma_|teadog_|_transfer\" = \"\"\n",
    "    # \"_\" = \"-\",\n",
    "    # \"paired-full\" = \"paired+full\",\n",
    "    # \"single-full\" = \"single+full\",\n",
    "    # \"-single$\" = \"-single-diag\"\n",
    "))\n",
    "if (transfer) {\n",
    "    metrics_tab[, \"Method\"] <- str_replace_all(metrics_tab[, \"Method\"], c(\"MIDAS\" = \"MIDAS (transfer)\"))\n",
    "}\n",
    "\n",
    "if (dataset == \"bm\") {\n",
    "    metrics_tab[, \"Task\"] <- \"full\"\n",
    "    dataset <- \"dogma\"\n",
    "}"
   ]
  },
  {
   "cell_type": "code",
   "execution_count": 6,
   "metadata": {
    "vscode": {
     "languageId": "r"
    }
   },
   "outputs": [],
   "source": [
    "if (scmib) {\n",
    "    column_info <- data.frame(id = colnames(metrics_tab),\n",
    "        group = c(\"Text\", \"Image\", rep(\"batch_score\", (1 + n_metrics_batch)),\n",
    "                                rep(\"mod_score\", (1 + n_metrics_mod)),\n",
    "                                rep(\"bio_score\", (1 + n_metrics_bio)), \"overall_score\"),\n",
    "        geom = c(\"text\", \"image\", rep(\"circle\", n_metrics_batch), \"bar\",\n",
    "                                rep(\"circle\", n_metrics_mod), \"bar\",\n",
    "                                rep(\"circle\", n_metrics_bio), \"bar\", \"bar\"),\n",
    "        width = c(   10.5,   2.5, rep(1, n_metrics_batch), 2,\n",
    "                                rep(1, n_metrics_mod), 2,\n",
    "                                rep(1, n_metrics_bio), 2, 2),\n",
    "        overlay = F)\n",
    "} else {\n",
    "    column_info <- data.frame(id = colnames(metrics_tab),\n",
    "                            group = c(\"Text\", \"Image\", rep(\"batch_score\", (1 + n_metrics_batch)),\n",
    "                                                        rep(\"bio_score\", (1 + n_metrics_bio)), \"overall_score\"),\n",
    "                            geom =  c(\"text\", \"image\", rep(\"circle\", n_metrics_batch), \"bar\",\n",
    "                                                        rep(\"circle\", n_metrics_bio), \"bar\", \"bar\"),\n",
    "                            width = c(  12,     2.5, rep(1, n_metrics_batch), 2,\n",
    "                                                        rep(1, n_metrics_bio), 2, 2),\n",
    "                            overlay = F)\n",
    "}\n"
   ]
  },
  {
   "cell_type": "code",
   "execution_count": 7,
   "metadata": {
    "vscode": {
     "languageId": "r"
    }
   },
   "outputs": [],
   "source": [
    "# https://www.datanovia.com/en/blog/top-r-color-palettes-to-know-for-great-data-visualization/\n",
    "palettes <- list(\"overall_score\" = \"Oranges\",\n",
    "                 \"batch_score\" = \"Greens\",\n",
    "                 \"mod_score\" = \"PuRd\",\n",
    "                 \"bio_score\" = \"Blues\")"
   ]
  },
  {
   "cell_type": "code",
   "execution_count": 8,
   "metadata": {
    "vscode": {
     "languageId": "r"
    }
   },
   "outputs": [
    {
     "name": "stderr",
     "output_type": "stream",
     "text": [
      "The following `from` values were not present in `x`: paired_full, single_full, paired_abc, paired_ab, paired_ac, paired_bc, single, single_atac, single_rna, single_adt, paired_a, paired_b, paired_c\n",
      "\n",
      "Warning message:\n",
      "\"\u001b[1m\u001b[22mUsing `size` aesthetic for lines was deprecated in ggplot2 3.4.0.\n",
      "\u001b[36mi\u001b[39m Please use `linewidth` instead.\"\n"
     ]
    }
   ],
   "source": [
    "g <- scIB_knit_table(data = metrics_tab, dataset = dataset, column_info = column_info, row_info = data.frame(id = metrics_tab$Method),\n",
    "                     palettes = palettes, task = T, usability = F)"
   ]
  },
  {
   "cell_type": "code",
   "execution_count": 9,
   "metadata": {
    "vscode": {
     "languageId": "r"
    }
   },
   "outputs": [
    {
     "data": {
      "image/png": "[encoded data removed]",
      "text/plain": [
       "plot without title"
      ]
     },
     "metadata": {
      "image/png": {
       "height": 543.3071,
       "width": 590.5512
      }
     },
     "output_type": "display_data"
    }
   ],
   "source": [
    "if (scmib) {\n",
    "    w <- 300\n",
    "    h <- 150\n",
    "} else {\n",
    "    w <- 250\n",
    "    h <- 230\n",
    "}\n",
    "options(repr.plot.width = w / 25.4, repr.plot.height = h / 25.4)\n",
    "g"
   ]
  },
  {
   "cell_type": "code",
   "execution_count": 28,
   "metadata": {
    "vscode": {
     "languageId": "r"
    }
   },
   "outputs": [],
   "source": [
    "now <- Sys.time()\n",
    "ggsave(paste0(outdir, \"/\", img_head, strsplit(basename(xls_metrics_path), split = \"\\\\.\")[[1]][1],\n",
    "    # format(now, \"_%Y%m%d_%H%M%S\"),  \".png\"), g, device = \"png\", dpi = \"retina\",\n",
    "    \".png\"), g, device = \"png\", dpi = \"retina\",\n",
    "    width = w, height = h, units = \"mm\")\n",
    "ggsave(paste0(outdir, \"/\", img_head, strsplit(basename(xls_metrics_path), split = \"\\\\.\")[[1]][1],\n",
    "    \".pdf\"), g, device = \"pdf\", dpi = \"retina\",\n",
    "    width = w, height = h, units = \"mm\")"
   ]
  }
 ],
 "metadata": {
  "interpreter": {
   "hash": "61a57a4b5406d2de388e2f91097d4e4bcd7d5f4a46f53a795aa28a02eed27fc5"
  },
  "kernelspec": {
   "display_name": "R",
   "language": "R",
   "name": "ir"
  },
  "language_info": {
   "codemirror_mode": "r",
   "file_extension": ".r",
   "mimetype": "text/x-r-source",
   "name": "R",
   "pygments_lexer": "r",
   "version": "4.1.0"
  },
  "orig_nbformat": 4
 },
 "nbformat": 4,
 "nbformat_minor": 2
}
