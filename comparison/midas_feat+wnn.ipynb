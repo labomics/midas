{
 "cells": [
  {
   "cell_type": "markdown",
   "metadata": {},
   "source": [
    "# Rectangular integration using MIDAS_feat + WNN"
   ]
  },
  {
   "cell_type": "code",
   "execution_count": null,
   "metadata": {
    "vscode": {
     "languageId": "r"
    }
   },
   "outputs": [],
   "source": [
    "source(\"/root/workspace/code/midas/preprocess/utils.R\")\n",
    "setwd(\"/root/workspace/code/midas/\")\n",
    "library(RColorBrewer)\n",
    "\n",
    "parser <- ArgumentParser()\n",
    "parser$add_argument(\"--task\", type = \"character\", default = \"dogma_full\")\n",
    "parser$add_argument(\"--method\", type = \"character\", default = \"midas_feat+wnn\")\n",
    "parser$add_argument(\"--experiment\", type = \"character\", default = \"e0\")\n",
    "parser$add_argument(\"--model\", type = \"character\", default = \"default\")\n",
    "parser$add_argument(\"--init_model\", type = \"character\", default = \"sp_00001899\")\n",
    "o <- parser$parse_known_args()[[1]]\n",
    "\n",
    "config <- parseTOML(\"configs/data.toml\")[[gsub(\"_vd.*|_vt.*|_transfer$|_ref_.*$\", \"\", o$task)]]\n",
    "subset_names <- basename(config$raw_data_dirs)\n",
    "subset_ids <- sapply(seq_along(subset_names) - 1, toString)\n",
    "input_dirs <- pj(\"result\", o$task, o$experiment, o$model, \"predict\", o$init_model, paste0(\"subset_\", subset_ids))\n",
    "pp_dir <- pj(\"data\", \"processed\", o$task)\n",
    "output_dir <- pj(\"result\", \"comparison\", o$task, o$method, o$experiment, o$model, o$init_model)\n",
    "mkdir(output_dir, remove_old = F)\n",
    "if (grepl(\"_vt\", o$task)) {\n",
    "    fn <- paste0(\"l1_\", tail(strsplit(o$task, split = \"_\")[[1]], 1), \".csv\")\n",
    "    label_paths <- pj(config$raw_data_dirs, \"label_seurat\", fn)\n",
    "} else {\n",
    "    label_paths <- pj(config$raw_data_dirs, \"label_seurat\", \"l1.csv\")\n",
    "}\n",
    "\n",
    "K <- parseTOML(\"configs/model.toml\")[[\"default\"]]$dim_c\n",
    "l <- 7.5  # figure size\n",
    "L <- 10   # figure size\n",
    "m <- 0.5  # legend margin"
   ]
  },
  {
   "cell_type": "markdown",
   "metadata": {},
   "source": [
    "## Load preprossed data"
   ]
  },
  {
   "cell_type": "code",
   "execution_count": null,
   "metadata": {
    "vscode": {
     "languageId": "r"
    }
   },
   "outputs": [],
   "source": [
    "rna_list <- list()\n",
    "atac_list <- list()\n",
    "adt_list <- list()\n",
    "cell_name_list <- list()\n",
    "label_list <- list()\n",
    "subset_name_list <- list()\n",
    "S <- length(subset_names)\n",
    "for (i in seq_along(subset_names)) {\n",
    "    subset_name <- subset_names[i]\n",
    "    rna_dir  <- pj(input_dirs[i], \"x_bc\", \"rna\")\n",
    "    atac_dir <- pj(input_dirs[i], \"x_bc\", \"atac\")\n",
    "    adt_dir  <- pj(input_dirs[i], \"x_bc\", \"adt\")\n",
    "    fnames <- dir(path = rna_dir, pattern = \".csv$\")\n",
    "    fnames <- str_sort(fnames, decreasing = F)\n",
    "\n",
    "    rna_subset_list <- list()\n",
    "    atac_subset_list <- list()\n",
    "    adt_subset_list <- list()\n",
    "    N <- length(fnames)\n",
    "    for (n in seq_along(fnames)) {\n",
    "        message(paste0(\"Loading Subset \", i, \"/\", S, \", File \", n, \"/\", N))\n",
    "        rna_subset_list[[n]] <- read.csv(file.path(rna_dir, fnames[n]), header = F)\n",
    "        atac_subset_list[[n]] <- read.csv(file.path(atac_dir, fnames[n]), header = F)\n",
    "        adt_subset_list[[n]] <- read.csv(file.path(adt_dir, fnames[n]), header = F)\n",
    "    }\n",
    "    rna_list[[subset_name]] <- bind_rows(rna_subset_list)\n",
    "    atac_list[[subset_name]] <- bind_rows(atac_subset_list)\n",
    "    adt_list[[subset_name]] <- bind_rows(adt_subset_list)\n",
    "\n",
    "    cell_name_list[[subset_name]] <- read.csv(pj(pp_dir, paste0(\"subset_\", subset_ids[i]),\n",
    "        \"cell_names.csv\"), header = T)[, 2]\n",
    "    label_list[[subset_name]] <- read.csv(label_paths[i], header = T)[, 2]\n",
    "    subset_name_list[[subset_name]] <- rep(subset_name, length(cell_name_list[[subset_name]]))\n",
    "}"
   ]
  },
  {
   "cell_type": "markdown",
   "metadata": {},
   "source": [
    "## Create seurat object"
   ]
  },
  {
   "cell_type": "code",
   "execution_count": null,
   "metadata": {
    "vscode": {
     "languageId": "r"
    }
   },
   "outputs": [],
   "source": [
    "rna <- t(data.matrix(bind_rows(rna_list)))\n",
    "colnames(rna) <- do.call(\"c\", unname(cell_name_list))\n",
    "rownames(rna) <- read.csv(pj(pp_dir, \"feat\", \"feat_names_rna.csv\"), header = T)[, 2]\n",
    "obj <- CreateSeuratObject(counts = rna, assay = \"rna\")\n",
    "rm(rna, rna_list)\n",
    "gc()\n",
    "\n",
    "adt <- t(data.matrix(bind_rows(adt_list)))\n",
    "colnames(adt) <- colnames(obj)\n",
    "rownames(adt) <- read.csv(pj(pp_dir, \"feat\", \"feat_names_adt.csv\"), header = T)[, 2]\n",
    "obj[[\"adt\"]] <- CreateAssayObject(counts = adt)\n",
    "rm(adt, adt_list)\n",
    "gc()\n",
    "\n",
    "atac <- t(data.matrix(bind_rows(atac_list)))\n",
    "rm(atac_list)\n",
    "gc()\n",
    "# h <- nrow(atac)\n",
    "# w <- ncol(atac)\n",
    "# atac[] <- rbinom(n = h * w, size = 1, prob = atac)\n",
    "# atac <- (atac > pmax(matrix(rowMeans(atac), h, w, byrow = F),\n",
    "#                            matrix(colMeans(atac), h, w, byrow = T))) * 1\n",
    "colnames(atac) <- colnames(obj)\n",
    "rownames(atac) <- read.csv(pj(pp_dir, \"feat\", \"feat_names_atac.csv\"), header = T)[, 2]\n",
    "obj[[\"atac\"]] <- CreateChromatinAssay(counts = atac)\n",
    "# annotation <- GetGRangesFromEnsDb(EnsDb.Hsapiens.v86)\n",
    "# seqlevelsStyle(annotation) <- \"UCSC\"\n",
    "# genome(annotation) <- \"hg38\"\n",
    "# obj[[\"atac\"]] <- CreateChromatinAssay(counts = atac, genome = 'hg38', annotation = annotation)\n",
    "rm(atac)\n",
    "gc()\n",
    "\n",
    "obj@meta.data$l1 <- do.call(\"c\", unname(label_list))\n",
    "obj@meta.data$batch <- factor(x = do.call(\"c\", unname(subset_name_list)), levels = subset_names)\n",
    "table(obj@meta.data$batch)[unique(obj@meta.data$batch)]\n",
    "\n",
    "obj\n",
    "obj <- subset(obj, subset = nCount_atac > 0 & nCount_rna > 0 & nCount_adt > 0)\n",
    "obj"
   ]
  },
  {
   "cell_type": "markdown",
   "metadata": {},
   "source": [
    "## Dimensionality reduction"
   ]
  },
  {
   "cell_type": "code",
   "execution_count": null,
   "metadata": {
    "vscode": {
     "languageId": "r"
    }
   },
   "outputs": [],
   "source": [
    "obj <- dim_reduc(obj)"
   ]
  },
  {
   "cell_type": "code",
   "execution_count": null,
   "metadata": {
    "vscode": {
     "languageId": "r"
    }
   },
   "outputs": [],
   "source": [
    "# wnn\n",
    "obj <- FindMultiModalNeighbors(obj, list(\"lsi\", \"pca_rna\", \"pca_adt\"),\n",
    "                                    list(1:K, 1:K, 1:K))\n",
    "\n",
    "# save connectivity matrices for benchmarking\n",
    "connectivities <- obj$wsnn\n",
    "diag(connectivities) <- 0\n",
    "invisible(writeMM(connectivities, pj(output_dir, \"connectivities.mtx\")))"
   ]
  },
  {
   "cell_type": "markdown",
   "metadata": {},
   "source": [
    "## Visualization"
   ]
  },
  {
   "cell_type": "code",
   "execution_count": null,
   "metadata": {
    "vscode": {
     "languageId": "r"
    }
   },
   "outputs": [],
   "source": [
    "# obj <- RunUMAP(obj, nn.name = \"weighted.nn\", reduction.name = \"umap\")\n",
    "# SaveH5Seurat(obj, pj(output_dir, \"obj.h5seurat\"), overwrite = TRUE)\n",
    "\n",
    "\n",
    "# # obj <- LoadH5Seurat(pj(output_dir, \"obj.h5seurat\"), assays = \"adt\", reductions = \"umap\")\n",
    "\n",
    "# # dim_plot(obj, w = 4*l, h = l, reduction = \"umap\",\n",
    "# #     split.by = \"batch\", group.by = \"batch\", label = F,\n",
    "# #     repel = T, label.size = 4, pt.size = 0.5, cols = NULL,\n",
    "# #     title = o$method, legend = F,\n",
    "# #     save_path = pj(output_dir, paste(o$method, o$experiment, o$model, o$init_model, \"split_batch\", sep = \"_\")))\n",
    "\n",
    "# # dim_plot(obj, w = 4*l+m, h = l, reduction = \"umap\",\n",
    "# #     split.by = \"batch\", group.by = \"l1\", label = F,\n",
    "# #     repel = T, label.size = 4, pt.size = 0.5, cols = dcols,\n",
    "# #     title = o$method, legend = T,\n",
    "# #     save_path = pj(output_dir, paste(o$method, o$experiment, o$model, o$init_model, \"split_label\", sep = \"_\")))\n",
    "\n",
    "# # dim_plot(obj, w = L+m, h = L, reduction = \"umap\",\n",
    "# #     split.by = NULL, group.by = \"batch\", label = F,\n",
    "# #     repel = T, label.size = 4, pt.size = 0.1, cols = NULL,\n",
    "# #     title = o$method, legend = T,\n",
    "# #     save_path = pj(output_dir, paste(o$method, o$experiment, o$model, o$init_model, \"merged_batch\", sep = \"_\")))\n",
    "\n",
    "# # dim_plot(obj, w = L+m, h = L, reduction = \"umap\",\n",
    "# #     split.by = NULL, group.by = \"l1\", label = F,\n",
    "# #     repel = T, label.size = 4, pt.size = 0.1, cols = dcols,\n",
    "# #     title = o$method, legend = T,\n",
    "# #     save_path = pj(output_dir, paste(o$method, o$experiment, o$model, o$init_model, \"merged_label\", sep = \"_\")))\n",
    "\n",
    "\n",
    "# # obj <- LoadH5Seurat(pj(output_dir, \"obj.h5seurat\"), assays = \"adt\", reductions = \"umap\")\n",
    "\n",
    "# dim_plot(obj, w = L, h = L, reduction = 'umap', no_axes = T,\n",
    "#     split.by = NULL, group.by = \"batch\", label = F, repel = T, label.size = 4, pt.size = 0.1, cols = col_4, legend = F,\n",
    "#     save_path = pj(output_dir, paste(o$method, o$experiment, o$model, o$init_model, \"merged_batch\", sep = \"_\")))\n",
    "\n",
    "# dim_plot(obj, w = L, h = L, reduction = 'umap', no_axes = T,\n",
    "#     split.by = NULL, group.by = \"l1\", label = F, repel = T, label.size = 4, pt.size = 0.1, cols = col_8, legend = F,\n",
    "#     save_path = pj(output_dir, paste(o$method, o$experiment, o$model, o$init_model, \"merged_label\", sep = \"_\")))"
   ]
  }
 ],
 "metadata": {
  "interpreter": {
   "hash": "61a57a4b5406d2de388e2f91097d4e4bcd7d5f4a46f53a795aa28a02eed27fc5"
  },
  "kernelspec": {
   "display_name": "R",
   "language": "R",
   "name": "ir"
  },
  "language_info": {
   "codemirror_mode": "r",
   "file_extension": ".r",
   "mimetype": "text/x-r-source",
   "name": "R",
   "pygments_lexer": "r",
   "version": "4.1.1"
  },
  "orig_nbformat": 4
 },
 "nbformat": 4,
 "nbformat_minor": 2
}
