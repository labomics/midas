{
 "cells": [
  {
   "cell_type": "markdown",
   "metadata": {},
   "source": [
    "# Rectangular integration using MIDAS_embed"
   ]
  },
  {
   "cell_type": "code",
   "execution_count": null,
   "metadata": {
    "vscode": {
     "languageId": "r"
    }
   },
   "outputs": [],
   "source": [
    "source(\"/root/workspace/code/midas/preprocess/utils.R\")\n",
    "setwd(\"/root/workspace/code/midas/\")\n",
    "library(RColorBrewer)\n",
    "library(patchwork)\n",
    "\n",
    "parser <- ArgumentParser()\n",
    "parser$add_argument(\"--task\", type = \"character\", default = \"dogma_single_rna\")\n",
    "parser$add_argument(\"--experiment\", type = \"character\", default = \"e0\")\n",
    "parser$add_argument(\"--model\", type = \"character\", default = \"l_2\")\n",
    "parser$add_argument(\"--init_model\", type = \"character\", default = \"sp_00001999\")\n",
    "o <- parser$parse_known_args()[[1]]\n",
    "\n",
    "pp_dir <- pj(\"data\", \"processed\", o$task)\n",
    "output_dir <- pj(\"result\", \"comparison\", o$task, paste0(\"all_\", o$task))\n",
    "mkdir(output_dir, remove_old = F)\n",
    "mod <- strsplit(o$task, \"_\")[[1]][3]\n",
    "\n",
    "l <- 7.5  # figure size\n",
    "L <- 10   # figure size\n",
    "m <- 0.5  # legend margin"
   ]
  },
  {
   "cell_type": "code",
   "execution_count": null,
   "metadata": {
    "vscode": {
     "languageId": "r"
    }
   },
   "outputs": [],
   "source": [
    "dirs <- list(\n",
    "    \"midas_embed\"          = pj(\"result\", \"comparison\", o$task, \"midas_embed\", o$experiment, o$model, o$init_model),\n",
    "    \"seurat_cca+wnn\"       = pj(\"result\", \"comparison\", o$task, \"seurat_cca+wnn\"),\n",
    "    \"seurat_rpca+wnn\"      = pj(\"result\", \"comparison\", o$task, \"seurat_rpca+wnn\")\n",
    ")"
   ]
  },
  {
   "cell_type": "code",
   "execution_count": null,
   "metadata": {
    "vscode": {
     "languageId": "r"
    }
   },
   "outputs": [],
   "source": [
    "plt_c_b <- NULL\n",
    "plt_c_l <- NULL\n",
    "\n",
    "for (method in names(dirs)) {\n",
    "    message(paste0(\"Plotting \", method))\n",
    "    dir <- dirs[[method]]\n",
    "    if (method == \"midas_embed\") {\n",
    "        obj <- LoadH5Seurat(pj(dir, \"obj.h5seurat\"), reductions = c(\"c.umap\", \"u.umap\"))\n",
    "    } else {\n",
    "        obj <- LoadH5Seurat(pj(dir, \"obj.h5seurat\"), assays = mod, reductions = \"umap\")\n",
    "    }\n",
    "\n",
    "    if (method == \"midas_embed\") {\n",
    "        p1 <- dim_plot(obj, w = L, h = L, reduction = \"c.umap\", no_axes = T, return_plt = T, display = F, border = T, raster = T,\n",
    "            split.by = NULL, group.by = \"batch\", label = F, repel = T, label.size = 4, pt.size = 0.1, cols = col_4, legend = F,\n",
    "            save_path = pj(output_dir, paste(method, o$experiment, o$model, o$init_model, \"c_merged_batch\", sep = \"_\")))\n",
    "\n",
    "        p2 <- dim_plot(obj, w = L, h = L, reduction = \"c.umap\", no_axes = T, return_plt = T, display = F, border = T, raster = T,\n",
    "            split.by = NULL, group.by = \"l1\", label = F, repel = T, label.size = 4, pt.size = 0.1, cols = col_8, legend = F,\n",
    "            save_path = pj(output_dir, paste(method, o$experiment, o$model, o$init_model, \"c_merged_label\", sep = \"_\")))\n",
    "    } else {\n",
    "        p1 <- dim_plot(obj, w = L, h = L, reduction = \"umap\", no_axes = T, return_plt = T, display = F, border = T, raster = T,\n",
    "            split.by = NULL, group.by = \"batch\", label = F, repel = T, label.size = 4, pt.size = 0.1, cols = col_4, legend = F,\n",
    "            save_path = pj(output_dir, paste(method, \"merged_batch\", sep = \"_\")))\n",
    "\n",
    "        p2 <- dim_plot(obj, w = L, h = L, reduction = \"umap\", no_axes = T, return_plt = T, display = F, border = T, raster = T,\n",
    "            split.by = NULL, group.by = \"l1\", label = F, repel = T, label.size = 4, pt.size = 0.1, cols = col_8, legend = F,\n",
    "            save_path = pj(output_dir, paste(method, \"merged_label\", sep = \"_\")))\n",
    "    }\n",
    "\n",
    "    p1 <- p1 + labs(colour = \"Batch\")\n",
    "    p2 <- p2 + labs(colour = \"Cell type\")\n",
    "\n",
    "    if (is.null(plt_c_b)) {\n",
    "        plt_c_b <- p1\n",
    "        plt_c_l <- p2\n",
    "    } else {\n",
    "        plt_c_b <- plt_c_b + p1\n",
    "        plt_c_l <- plt_c_l + p2\n",
    "    }\n",
    "}"
   ]
  },
  {
   "cell_type": "code",
   "execution_count": null,
   "metadata": {
    "vscode": {
     "languageId": "r"
    }
   },
   "outputs": [],
   "source": [
    "plt_c_b <- plt_c_b + plot_layout(nrow = 1, guides = \"collect\") & theme(legend.position = \"right\")\n",
    "plt_c_l <- plt_c_l + plot_layout(nrow = 1, guides = \"collect\") & theme(legend.position = \"right\")\n",
    "plt_c <- plt_c_b / plt_c_l\n",
    "w <- L * 3 + 1.38 * 2\n",
    "h <- L * 2\n",
    "plt_size(w, h)\n",
    "ggsave(plot = plt_c, file = pj(output_dir, paste(mod, o$experiment, o$model, o$init_model, \"merged_c.png\", sep = \"_\")), width = w, height = h, scale = 0.5, limitsize = F)\n",
    "ggsave(plot = plt_c, file = pj(output_dir, paste(mod, o$experiment, o$model, o$init_model, \"merged_c.pdf\", sep = \"_\")), width = w, height = h, scale = 0.5, limitsize = F)"
   ]
  }
 ],
 "metadata": {
  "interpreter": {
   "hash": "61a57a4b5406d2de388e2f91097d4e4bcd7d5f4a46f53a795aa28a02eed27fc5"
  },
  "kernelspec": {
   "display_name": "R",
   "language": "R",
   "name": "ir"
  },
  "language_info": {
   "codemirror_mode": "r",
   "file_extension": ".r",
   "mimetype": "text/x-r-source",
   "name": "R",
   "pygments_lexer": "r",
   "version": "4.1.0"
  },
  "orig_nbformat": 4
 },
 "nbformat": 4,
 "nbformat_minor": 2
}
