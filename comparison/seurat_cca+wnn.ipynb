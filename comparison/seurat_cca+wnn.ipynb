{
 "cells": [
  {
   "cell_type": "markdown",
   "id": "f07109f4",
   "metadata": {},
   "source": [
    "# Rectangular integration using CCA + WNN"
   ]
  },
  {
   "cell_type": "code",
   "execution_count": null,
   "id": "f52f76d8",
   "metadata": {
    "scrolled": false,
    "vscode": {
     "languageId": "r"
    }
   },
   "outputs": [],
   "source": [
    "source(\"/root/workspace/code/sc-transformer/preprocess/utils.R\")\n",
    "setwd(\"/root/workspace/code/sc-transformer/\")\n",
    "library(gridExtra)\n",
    "library(RColorBrewer)\n",
    "\n",
    "parser <- ArgumentParser()\n",
    "parser$add_argument(\"--task\", type = \"character\", default = \"dogma_full\")\n",
    "parser$add_argument(\"--method\", type = \"character\", default = \"seurat_cca+wnn\")\n",
    "parser$add_argument(\"--exp\", type = \"character\", default = \"e0\")\n",
    "parser$add_argument(\"--model\", type = \"character\", default = \"default\")\n",
    "parser$add_argument(\"--init_model\", type = \"character\", default = \"sp_00001899\")\n",
    "o <- parser$parse_known_args()[[1]]\n",
    "\n",
    "config <- parseTOML(\"configs/data.toml\")[[o$task]]\n",
    "subset_names <- basename(config$raw_data_dirs)\n",
    "subset_ids <- sapply(seq_along(subset_names) - 1, toString)\n",
    "input_dirs <- pj(\"result\", o$task, o$exp, o$model, \"predict\", o$init_model, paste0(\"subset_\", subset_ids))\n",
    "pp_dir <- pj(\"data\", \"processed\", o$task)\n",
    "output_dir <- pj(\"result\", \"comparison\", o$task, o$method)\n",
    "mkdir(output_dir, remove_old = F)\n",
    "label_paths <- pj(config$raw_data_dirs, \"label_seurat\", \"l1.csv\")\n",
    "\n",
    "K <- parseTOML(\"configs/model.toml\")[[\"default\"]]$dim_c\n",
    "l <- 7.5  # figure size\n",
    "L <- 10   # figure size\n",
    "m <- 0.5  # legend margin"
   ]
  },
  {
   "cell_type": "markdown",
   "id": "8fdc7d65",
   "metadata": {},
   "source": [
    "## Load preprossed data"
   ]
  },
  {
   "cell_type": "code",
   "execution_count": null,
   "id": "50bab0d7",
   "metadata": {
    "scrolled": false,
    "vscode": {
     "languageId": "r"
    }
   },
   "outputs": [],
   "source": [
    "rna_list <- list()\n",
    "atac_list <- list()\n",
    "adt_list <- list()\n",
    "cell_name_list <- list()\n",
    "label_list <- list()\n",
    "subset_name_list <- list()\n",
    "S <- length(subset_names)\n",
    "for (i in seq_along(subset_names)) {\n",
    "    subset_name <- subset_names[i]\n",
    "    rna_dir  <- pj(input_dirs[i], \"x\", \"rna\")\n",
    "    atac_dir <- pj(input_dirs[i], \"x\", \"atac\")\n",
    "    adt_dir  <- pj(input_dirs[i], \"x\", \"adt\")\n",
    "    fnames <- dir(path = rna_dir, pattern = \".csv$\")\n",
    "    fnames <- str_sort(fnames, decreasing = F)\n",
    "\n",
    "    rna_subset_list <- list()\n",
    "    atac_subset_list <- list()\n",
    "    adt_subset_list <- list()\n",
    "    N <- length(fnames)\n",
    "    for (n in seq_along(fnames)) {\n",
    "        message(paste0(\"Loading Subset \", i, \"/\", S, \", File \", n, \"/\", N))\n",
    "        rna_subset_list[[n]] <- read.csv(file.path(rna_dir, fnames[n]), header = F)\n",
    "        atac_subset_list[[n]] <- read.csv(file.path(atac_dir, fnames[n]), header = F)\n",
    "        adt_subset_list[[n]] <- read.csv(file.path(adt_dir, fnames[n]), header = F)\n",
    "    }\n",
    "    rna_list[[subset_name]] <- bind_rows(rna_subset_list)\n",
    "    atac_list[[subset_name]] <- bind_rows(atac_subset_list)\n",
    "    adt_list[[subset_name]] <- bind_rows(adt_subset_list)\n",
    "\n",
    "    cell_name_list[[subset_name]] <- read.csv(pj(pp_dir, paste0(\"subset_\", subset_ids[i]),\n",
    "        \"cell_names.csv\"), header = T)[, 2]\n",
    "    label_list[[subset_name]] <- read.csv(label_paths[i], header = T)[, 2]\n",
    "    subset_name_list[[subset_name]] <- rep(subset_name, length(cell_name_list[[subset_name]]))\n",
    "}"
   ]
  },
  {
   "cell_type": "markdown",
   "id": "eaa4a527",
   "metadata": {},
   "source": [
    "## Create seurat object"
   ]
  },
  {
   "cell_type": "code",
   "execution_count": null,
   "id": "e0337122",
   "metadata": {
    "scrolled": true,
    "vscode": {
     "languageId": "r"
    }
   },
   "outputs": [],
   "source": [
    "cell_name <- do.call(\"c\", unname(cell_name_list))\n",
    "\n",
    "rna <- t(data.matrix(bind_rows(rna_list)))\n",
    "colnames(rna) <- cell_name\n",
    "rownames(rna) <- read.csv(pj(pp_dir, \"feat\", \"feat_names_rna.csv\"), header = T)[, 2]\n",
    "\n",
    "adt <- t(data.matrix(bind_rows(adt_list)))\n",
    "colnames(adt) <- cell_name\n",
    "rownames(adt) <- read.csv(pj(pp_dir, \"feat\", \"feat_names_adt.csv\"), header = T)[, 2]\n",
    "\n",
    "# remove missing features\n",
    "rna_mask_list <- list()\n",
    "adt_mask_list <- list()\n",
    "for (i in seq_along(subset_names)) {\n",
    "    subset_name <- subset_names[i]\n",
    "    rna_mask_list[[subset_name]] <- read.csv(pj(pp_dir, paste0(\"subset_\", subset_ids[i]),\n",
    "        \"mask\", \"rna.csv\"), header = T)[, -1]\n",
    "    adt_mask_list[[subset_name]] <- read.csv(pj(pp_dir, paste0(\"subset_\", subset_ids[i]),\n",
    "        \"mask\", \"adt.csv\"), header = T)[, -1]\n",
    "}\n",
    "rna_mask <- as.logical(apply(data.matrix(bind_rows(rna_mask_list)), 2, prod))\n",
    "adt_mask <- as.logical(apply(data.matrix(bind_rows(adt_mask_list)), 2, prod))\n",
    "rna <- rna[rna_mask, ]\n",
    "adt <- adt[adt_mask, ]\n",
    "\n",
    "\n",
    "obj <- CreateSeuratObject(counts = rna, assay = \"rna\")\n",
    "obj[[\"adt\"]] <- CreateAssayObject(counts = adt)\n",
    "\n",
    "atac <- t(data.matrix(bind_rows(atac_list)))\n",
    "# h <- nrow(atac)\n",
    "# w <- ncol(atac)\n",
    "# atac[] <- rbinom(n = h * w, size = 1, prob = atac)\n",
    "# atac <- (atac > pmax(matrix(rowMeans(atac), h, w, byrow = F),\n",
    "#                            matrix(colMeans(atac), h, w, byrow = T))) * 1\n",
    "colnames(atac) <- cell_name\n",
    "rownames(atac) <- read.csv(pj(pp_dir, \"feat\", \"feat_names_atac.csv\"), header = T)[, 2]\n",
    "obj[[\"atac\"]] <- CreateChromatinAssay(counts = atac)\n",
    "# annotation <- GetGRangesFromEnsDb(EnsDb.Hsapiens.v86)\n",
    "# seqlevelsStyle(annotation) <- \"UCSC\"\n",
    "# genome(annotation) <- \"hg38\"\n",
    "# obj[[\"atac\"]] <- CreateChromatinAssay(counts = atac, genome = 'hg38', annotation = annotation)\n",
    "\n",
    "obj@meta.data$l1 <- do.call(\"c\", unname(label_list))\n",
    "obj@meta.data$batch <- factor(x = do.call(\"c\", unname(subset_name_list)), levels = subset_names)\n",
    "table(obj@meta.data$batch)[unique(obj@meta.data$batch)]\n",
    "\n",
    "obj\n",
    "obj <- subset(obj, subset = nCount_atac > 0 & nCount_rna > 0 & nCount_adt > 0)\n",
    "obj"
   ]
  },
  {
   "cell_type": "markdown",
   "id": "b52471db",
   "metadata": {},
   "source": [
    "## Batch correction on normalized RNA data + PCA"
   ]
  },
  {
   "cell_type": "code",
   "execution_count": null,
   "id": "c3c3cfa5",
   "metadata": {
    "scrolled": true,
    "vscode": {
     "languageId": "r"
    }
   },
   "outputs": [],
   "source": [
    "obj_rna <- GetAssayData(object = obj, assay = \"rna\")\n",
    "obj_rna <- CreateSeuratObject(counts = obj_rna, assay = \"rna\")\n",
    "obj_rna@meta.data$l2 <- do.call(\"c\", unname(label_list))\n",
    "obj_rna@meta.data$batch <- do.call(\"c\", unname(subset_name_list))\n",
    "obj_rna.list <- SplitObject(obj_rna, split.by = \"batch\")\n",
    "obj_rna.list <- lapply(X = obj_rna.list, FUN = function(x) {\n",
    "    x <- NormalizeData(x)\n",
    "    x <- FindVariableFeatures(x, nfeatures = 5000)\n",
    "})\n",
    "\n",
    "rna_features <- SelectIntegrationFeatures(object.list = obj_rna.list, nfeatures = 5000)\n",
    "obj_rna.list <- lapply(X = obj_rna.list, FUN = function(x) {\n",
    "    x <- ScaleData(x, features = rna_features, verbose = FALSE)\n",
    "    x <- RunPCA(x, features = rna_features, verbose = FALSE, reduction.name = \"pca\")\n",
    "})\n",
    "rna.anchors <- FindIntegrationAnchors(\n",
    "    object.list = obj_rna.list,\n",
    "    anchor.features = rna_features,\n",
    "    reduction = \"cca\")\n",
    "rna.combined <- IntegrateData(anchorset = rna.anchors)\n",
    "\n",
    "obj[[\"rna_int\"]] <- GetAssay(rna.combined, assay = \"integrated\")\n",
    "DefaultAssay(obj) <- \"rna_int\"\n",
    "obj <- ScaleData(obj, verbose = FALSE)\n",
    "obj <- RunPCA(obj, reduction.name = \"pca_cca_rna\")"
   ]
  },
  {
   "cell_type": "markdown",
   "id": "9421f574",
   "metadata": {},
   "source": [
    "## Batch correction on normalized ADT data + PCA"
   ]
  },
  {
   "cell_type": "code",
   "execution_count": null,
   "id": "ef08a158",
   "metadata": {
    "scrolled": true,
    "vscode": {
     "languageId": "r"
    }
   },
   "outputs": [],
   "source": [
    "obj_adt <- GetAssayData(object = obj, assay = \"adt\")\n",
    "obj_adt <- CreateSeuratObject(counts = obj_adt, assay = \"adt\")\n",
    "obj_adt@meta.data$l2 <- do.call(\"c\", unname(label_list))\n",
    "obj_adt@meta.data$batch <- do.call(\"c\", unname(subset_name_list))\n",
    "obj_adt.list <- SplitObject(obj_adt, split.by = \"batch\")\n",
    "obj_adt.list <- lapply(X = obj_adt.list, FUN = function(x) {\n",
    "    x <- NormalizeData(x, normalization.method = \"CLR\", margin = 2)\n",
    "    x <- FindVariableFeatures(x)\n",
    "})\n",
    "\n",
    "adt_features <- SelectIntegrationFeatures(object.list = obj_adt.list)\n",
    "obj_adt.list <- lapply(X = obj_adt.list, FUN = function(x) {\n",
    "    x <- ScaleData(x, features = adt_features, verbose = FALSE)\n",
    "    x <- RunPCA(x, features = adt_features, verbose = FALSE, reduction.name = \"pca\")\n",
    "})\n",
    "adt.anchors <- FindIntegrationAnchors(\n",
    "    object.list = obj_adt.list,\n",
    "    anchor.features = adt_features,\n",
    "    reduction = \"cca\")\n",
    "adt.combined <- IntegrateData(anchorset = adt.anchors)\n",
    "\n",
    "obj[[\"adt_int\"]] <- GetAssay(adt.combined, assay = \"integrated\")\n",
    "DefaultAssay(obj) <- \"adt_int\"\n",
    "obj <- ScaleData(obj, verbose = FALSE)\n",
    "obj <- RunPCA(obj, reduction.name = \"pca_cca_adt\")"
   ]
  },
  {
   "cell_type": "markdown",
   "id": "03904560",
   "metadata": {},
   "source": [
    "## Batch correction on normalized ATAC data + LSI"
   ]
  },
  {
   "cell_type": "code",
   "execution_count": null,
   "id": "55c9fd01",
   "metadata": {
    "vscode": {
     "languageId": "r"
    }
   },
   "outputs": [],
   "source": [
    "obj_atac <- GetAssayData(object = obj, assay = \"atac\")\n",
    "obj_atac <- CreateSeuratObject(counts = obj_atac, assay = \"atac\")\n",
    "obj_atac@meta.data$l2 <- do.call(\"c\", unname(label_list))\n",
    "obj_atac@meta.data$batch <- do.call(\"c\", unname(subset_name_list))\n",
    "obj_atac.list <- SplitObject(obj_atac, split.by = \"batch\")\n",
    "obj_atac.list <- lapply(X = obj_atac.list, FUN = function(x) {\n",
    "    x <- RunTFIDF(x)\n",
    "    x <- FindTopFeatures(x, min.cutof = \"q25\")\n",
    "})\n",
    "\n",
    "atac_features <- SelectIntegrationFeatures(object.list = obj_atac.list)\n",
    "obj_atac.list <- lapply(X = obj_atac.list, FUN = function(x) {\n",
    "    x <- RunSVD(x, features = atac_features, verbose = FALSE, reduction.name = \"pca\")\n",
    "})\n",
    "atac.anchors <- FindIntegrationAnchors(\n",
    "    object.list = obj_atac.list,\n",
    "    anchor.features = atac_features,\n",
    "    reduction = \"cca\")\n",
    "atac.combined <- IntegrateData(anchorset = atac.anchors)\n",
    "\n",
    "obj[[\"atac_int\"]] <- GetAssay(atac.combined, assay = \"integrated\")\n",
    "DefaultAssay(obj) <- \"atac_int\"\n",
    "obj <- RunSVD(obj, reduction.name = \"pca_cca_atac\")"
   ]
  },
  {
   "cell_type": "code",
   "execution_count": null,
   "id": "1c39f369",
   "metadata": {
    "scrolled": false,
    "vscode": {
     "languageId": "r"
    }
   },
   "outputs": [],
   "source": [
    "# wnn\n",
    "obj <- FindMultiModalNeighbors(obj, list(\"pca_cca_atac\", \"pca_cca_rna\", \"pca_cca_adt\"),\n",
    "                                    list(1:K, 1:K, 1:K))\n",
    "# save connectivity matrices for benchmarking\n",
    "connectivities <- obj$wsnn\n",
    "diag(connectivities) <- 0\n",
    "invisible(writeMM(connectivities, pj(output_dir, \"connectivities.mtx\")))"
   ]
  },
  {
   "cell_type": "markdown",
   "id": "794b061a",
   "metadata": {},
   "source": [
    "## Visualization"
   ]
  },
  {
   "cell_type": "code",
   "execution_count": null,
   "id": "5c79dbb5",
   "metadata": {
    "scrolled": true,
    "vscode": {
     "languageId": "r"
    }
   },
   "outputs": [],
   "source": [
    "obj <- RunUMAP(obj, nn.name = \"weighted.nn\", reduction.name = \"umap\")\n",
    "SaveH5Seurat(obj, pj(output_dir, \"obj.h5seurat\"), overwrite = TRUE)"
   ]
  },
  {
   "cell_type": "code",
   "execution_count": null,
   "id": "401a3ad1",
   "metadata": {
    "vscode": {
     "languageId": "r"
    }
   },
   "outputs": [],
   "source": [
    "# obj <- LoadH5Seurat(pj(output_dir, \"obj.h5seurat\"), assays = \"adt\", reductions = \"umap\")\n",
    "\n",
    "# dim_plot(obj, w = 4*l, h = l, reduction = \"umap\",\n",
    "#     split.by = \"batch\", group.by = \"batch\", label = F,\n",
    "#     repel = T, label.size = 4, pt.size = 0.5, cols = NULL,\n",
    "#     title = o$method, legend = F,\n",
    "#     save_path = pj(output_dir, paste0(o$method, \"_split_batch\")))\n",
    "\n",
    "# dim_plot(obj, w = 4*l+m, h = l, reduction = \"umap\",\n",
    "#     split.by = \"batch\", group.by = \"l1\", label = F,\n",
    "#     repel = T, label.size = 4, pt.size = 0.5, cols = dcols,\n",
    "#     title = o$method, legend = T,\n",
    "#     save_path = pj(output_dir, paste0(o$method, \"_split_label\")))\n",
    "\n",
    "# dim_plot(obj, w = L+m, h = L, reduction = \"umap\",\n",
    "#     split.by = NULL, group.by = \"batch\", label = F,\n",
    "#     repel = T, label.size = 4, pt.size = 0.1, cols = NULL,\n",
    "#     title = o$method, legend = T,\n",
    "#     save_path = pj(output_dir, paste0(o$method, \"_merged_batch\")))\n",
    "\n",
    "# dim_plot(obj, w = L+m, h = L, reduction = \"umap\",\n",
    "#     split.by = NULL, group.by = \"l1\", label = F,\n",
    "#     repel = T, label.size = 4, pt.size = 0.1, cols = dcols,\n",
    "#     title = o$method, legend = T,\n",
    "#     save_path = pj(output_dir, paste0(o$method, \"_merged_label\")))"
   ]
  },
  {
   "cell_type": "code",
   "execution_count": null,
   "id": "43113c8e",
   "metadata": {
    "vscode": {
     "languageId": "r"
    }
   },
   "outputs": [],
   "source": [
    "# obj <- LoadH5Seurat(pj(output_dir, \"obj.h5seurat\"), assays = \"adt\", reductions = \"umap\")\n",
    "\n",
    "dim_plot(obj, w = L, h = L, reduction = 'umap', no_axes = T,\n",
    "    split.by = NULL, group.by = \"batch\", label = F, repel = T, label.size = 4, pt.size = 0.1, cols = col_4, legend = F,\n",
    "    save_path = pj(output_dir, paste(o$method, \"merged_batch\", sep = \"_\")))\n",
    "\n",
    "dim_plot(obj, w = L, h = L, reduction = 'umap', no_axes = T,\n",
    "    split.by = NULL, group.by = \"l1\", label = F, repel = T, label.size = 4, pt.size = 0.1, cols = col_8, legend = F,\n",
    "    save_path = pj(output_dir, paste(o$method, \"merged_label\", sep = \"_\")))"
   ]
  }
 ],
 "metadata": {
  "kernelspec": {
   "display_name": "R",
   "language": "R",
   "name": "ir"
  },
  "language_info": {
   "codemirror_mode": "r",
   "file_extension": ".r",
   "mimetype": "text/x-r-source",
   "name": "R",
   "pygments_lexer": "r",
   "version": "4.1.1"
  }
 },
 "nbformat": 4,
 "nbformat_minor": 5
}
